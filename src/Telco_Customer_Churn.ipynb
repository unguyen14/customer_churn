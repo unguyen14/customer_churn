{
  "nbformat": 4,
  "nbformat_minor": 0,
  "metadata": {
    "colab": {
      "name": "Telco_Customer_Churn.ipynb",
      "provenance": [],
      "collapsed_sections": [],
      "toc_visible": true,
      "authorship_tag": "ABX9TyN6W4HQrtHROlXm/qmsnG2a",
      "include_colab_link": true
    },
    "kernelspec": {
      "display_name": "Python 3",
      "name": "python3"
    },
    "language_info": {
      "name": "python"
    }
  },
  "cells": [
    {
      "cell_type": "markdown",
      "metadata": {
        "id": "view-in-github",
        "colab_type": "text"
      },
      "source": [
        "<a href=\"https://colab.research.google.com/github/unguyen14/customer_churn/blob/main/Telco_Customer_Churn.ipynb\" target=\"_parent\"><img src=\"https://colab.research.google.com/assets/colab-badge.svg\" alt=\"Open In Colab\"/></a>"
      ]
    },
    {
      "cell_type": "markdown",
      "metadata": {
        "id": "sCcTsTUjLdlr"
      },
      "source": [
        "# **Author: Winnie Nguyen**\n",
        "\n",
        "---\n",
        "\n",
        "\n",
        "# Telecom Customer Churn Analysis\n",
        "\n",
        "- Custormer attention is essential for many businesses, especially in the era in which many options are offered to them at competitive prices. Therefore, it is important to identify customers so that necessary efforts can be diverted in a targeted and purposeful manners to maximize the efficiency. \n",
        "- In this analysis, a small dataset of churned customers for a telecom company with different collected features will be analyzed, in order to build a predictive model that can help early dectection of customers who are likely to stop using the service.\n"
      ]
    },
    {
      "cell_type": "markdown",
      "metadata": {
        "id": "Z-Ua5Mi3NhuA"
      },
      "source": [
        "# 0. Preprocessing\n",
        "- The dataset is obtained from Kaggle. The following steps will access the dataset using API credential. "
      ]
    },
    {
      "cell_type": "code",
      "metadata": {
        "id": "vph5M-aOSmh-"
      },
      "source": [
        " ! pip install -q kaggle"
      ],
      "execution_count": null,
      "outputs": []
    },
    {
      "cell_type": "code",
      "metadata": {
        "id": "LLrX58WrTYRm"
      },
      "source": [
        "#upload your api file\n",
        "from google.colab import files\n",
        "files.upload()"
      ],
      "execution_count": null,
      "outputs": []
    },
    {
      "cell_type": "code",
      "metadata": {
        "id": "ZJHl1sYCmNN1"
      },
      "source": [
        "! mkdir ~/.kaggle\n",
        "\n",
        "! cp kaggle.json ~/.kaggle/"
      ],
      "execution_count": null,
      "outputs": []
    },
    {
      "cell_type": "code",
      "metadata": {
        "id": "cx3N0giRKhyT"
      },
      "source": [
        "! chmod 600 /root/.kaggle/kaggle.json"
      ],
      "execution_count": null,
      "outputs": []
    },
    {
      "cell_type": "code",
      "metadata": {
        "colab": {
          "base_uri": "https://localhost:8080/"
        },
        "id": "sMhSsq9GlsgK",
        "outputId": "64c2c9c0-4817-4689-8377-34d604cc03a1"
      },
      "source": [
        "! kaggle datasets download -d blastchar/telco-customer-churn"
      ],
      "execution_count": null,
      "outputs": [
        {
          "output_type": "stream",
          "text": [
            "Downloading telco-customer-churn.zip to /content\n",
            "\r  0% 0.00/172k [00:00<?, ?B/s]\n",
            "\r100% 172k/172k [00:00<00:00, 54.5MB/s]\n"
          ],
          "name": "stdout"
        }
      ]
    },
    {
      "cell_type": "code",
      "metadata": {
        "colab": {
          "base_uri": "https://localhost:8080/"
        },
        "id": "Nzg9DtzJl3-2",
        "outputId": "18dfebe5-b894-4490-d86d-49c2a6970105"
      },
      "source": [
        "!unzip telco-customer-churn.zip"
      ],
      "execution_count": null,
      "outputs": [
        {
          "output_type": "stream",
          "text": [
            "Archive:  telco-customer-churn.zip\n",
            "  inflating: WA_Fn-UseC_-Telco-Customer-Churn.csv  \n"
          ],
          "name": "stdout"
        }
      ]
    },
    {
      "cell_type": "markdown",
      "metadata": {
        "id": "eMkRmKgbOBC_"
      },
      "source": [
        ""
      ]
    },
    {
      "cell_type": "markdown",
      "metadata": {
        "id": "60g9-FkfOE05"
      },
      "source": [
        "# 1. Import Dataset and Initial Data Cleansing"
      ]
    },
    {
      "cell_type": "code",
      "metadata": {
        "id": "_4h0uUc2mYKC"
      },
      "source": [
        "#Import all libraries that will be used in the notebook\n",
        "import pandas as pd\n",
        "import seaborn as sns\n",
        "import matplotlib.pyplot as plt\n",
        "import numpy as np\n",
        "from sklearn.model_selection import train_test_split\n",
        "%matplotlib inline"
      ],
      "execution_count": null,
      "outputs": []
    },
    {
      "cell_type": "code",
      "metadata": {
        "colab": {
          "base_uri": "https://localhost:8080/",
          "height": 301
        },
        "id": "UvH3aC71meFd",
        "outputId": "931e4f1b-c0cc-457f-997f-e85582d5e089"
      },
      "source": [
        "#Read file to a dataframe\n",
        "df = pd.read_csv('WA_Fn-UseC_-Telco-Customer-Churn.csv')\n",
        "df.head()"
      ],
      "execution_count": null,
      "outputs": [
        {
          "output_type": "execute_result",
          "data": {
            "text/html": [
              "<div>\n",
              "<style scoped>\n",
              "    .dataframe tbody tr th:only-of-type {\n",
              "        vertical-align: middle;\n",
              "    }\n",
              "\n",
              "    .dataframe tbody tr th {\n",
              "        vertical-align: top;\n",
              "    }\n",
              "\n",
              "    .dataframe thead th {\n",
              "        text-align: right;\n",
              "    }\n",
              "</style>\n",
              "<table border=\"1\" class=\"dataframe\">\n",
              "  <thead>\n",
              "    <tr style=\"text-align: right;\">\n",
              "      <th></th>\n",
              "      <th>customerID</th>\n",
              "      <th>gender</th>\n",
              "      <th>SeniorCitizen</th>\n",
              "      <th>Partner</th>\n",
              "      <th>Dependents</th>\n",
              "      <th>tenure</th>\n",
              "      <th>PhoneService</th>\n",
              "      <th>MultipleLines</th>\n",
              "      <th>InternetService</th>\n",
              "      <th>OnlineSecurity</th>\n",
              "      <th>OnlineBackup</th>\n",
              "      <th>DeviceProtection</th>\n",
              "      <th>TechSupport</th>\n",
              "      <th>StreamingTV</th>\n",
              "      <th>StreamingMovies</th>\n",
              "      <th>Contract</th>\n",
              "      <th>PaperlessBilling</th>\n",
              "      <th>PaymentMethod</th>\n",
              "      <th>MonthlyCharges</th>\n",
              "      <th>TotalCharges</th>\n",
              "      <th>Churn</th>\n",
              "    </tr>\n",
              "  </thead>\n",
              "  <tbody>\n",
              "    <tr>\n",
              "      <th>0</th>\n",
              "      <td>7590-VHVEG</td>\n",
              "      <td>Female</td>\n",
              "      <td>0</td>\n",
              "      <td>Yes</td>\n",
              "      <td>No</td>\n",
              "      <td>1</td>\n",
              "      <td>No</td>\n",
              "      <td>No phone service</td>\n",
              "      <td>DSL</td>\n",
              "      <td>No</td>\n",
              "      <td>Yes</td>\n",
              "      <td>No</td>\n",
              "      <td>No</td>\n",
              "      <td>No</td>\n",
              "      <td>No</td>\n",
              "      <td>Month-to-month</td>\n",
              "      <td>Yes</td>\n",
              "      <td>Electronic check</td>\n",
              "      <td>29.85</td>\n",
              "      <td>29.85</td>\n",
              "      <td>No</td>\n",
              "    </tr>\n",
              "    <tr>\n",
              "      <th>1</th>\n",
              "      <td>5575-GNVDE</td>\n",
              "      <td>Male</td>\n",
              "      <td>0</td>\n",
              "      <td>No</td>\n",
              "      <td>No</td>\n",
              "      <td>34</td>\n",
              "      <td>Yes</td>\n",
              "      <td>No</td>\n",
              "      <td>DSL</td>\n",
              "      <td>Yes</td>\n",
              "      <td>No</td>\n",
              "      <td>Yes</td>\n",
              "      <td>No</td>\n",
              "      <td>No</td>\n",
              "      <td>No</td>\n",
              "      <td>One year</td>\n",
              "      <td>No</td>\n",
              "      <td>Mailed check</td>\n",
              "      <td>56.95</td>\n",
              "      <td>1889.5</td>\n",
              "      <td>No</td>\n",
              "    </tr>\n",
              "    <tr>\n",
              "      <th>2</th>\n",
              "      <td>3668-QPYBK</td>\n",
              "      <td>Male</td>\n",
              "      <td>0</td>\n",
              "      <td>No</td>\n",
              "      <td>No</td>\n",
              "      <td>2</td>\n",
              "      <td>Yes</td>\n",
              "      <td>No</td>\n",
              "      <td>DSL</td>\n",
              "      <td>Yes</td>\n",
              "      <td>Yes</td>\n",
              "      <td>No</td>\n",
              "      <td>No</td>\n",
              "      <td>No</td>\n",
              "      <td>No</td>\n",
              "      <td>Month-to-month</td>\n",
              "      <td>Yes</td>\n",
              "      <td>Mailed check</td>\n",
              "      <td>53.85</td>\n",
              "      <td>108.15</td>\n",
              "      <td>Yes</td>\n",
              "    </tr>\n",
              "    <tr>\n",
              "      <th>3</th>\n",
              "      <td>7795-CFOCW</td>\n",
              "      <td>Male</td>\n",
              "      <td>0</td>\n",
              "      <td>No</td>\n",
              "      <td>No</td>\n",
              "      <td>45</td>\n",
              "      <td>No</td>\n",
              "      <td>No phone service</td>\n",
              "      <td>DSL</td>\n",
              "      <td>Yes</td>\n",
              "      <td>No</td>\n",
              "      <td>Yes</td>\n",
              "      <td>Yes</td>\n",
              "      <td>No</td>\n",
              "      <td>No</td>\n",
              "      <td>One year</td>\n",
              "      <td>No</td>\n",
              "      <td>Bank transfer (automatic)</td>\n",
              "      <td>42.30</td>\n",
              "      <td>1840.75</td>\n",
              "      <td>No</td>\n",
              "    </tr>\n",
              "    <tr>\n",
              "      <th>4</th>\n",
              "      <td>9237-HQITU</td>\n",
              "      <td>Female</td>\n",
              "      <td>0</td>\n",
              "      <td>No</td>\n",
              "      <td>No</td>\n",
              "      <td>2</td>\n",
              "      <td>Yes</td>\n",
              "      <td>No</td>\n",
              "      <td>Fiber optic</td>\n",
              "      <td>No</td>\n",
              "      <td>No</td>\n",
              "      <td>No</td>\n",
              "      <td>No</td>\n",
              "      <td>No</td>\n",
              "      <td>No</td>\n",
              "      <td>Month-to-month</td>\n",
              "      <td>Yes</td>\n",
              "      <td>Electronic check</td>\n",
              "      <td>70.70</td>\n",
              "      <td>151.65</td>\n",
              "      <td>Yes</td>\n",
              "    </tr>\n",
              "  </tbody>\n",
              "</table>\n",
              "</div>"
            ],
            "text/plain": [
              "   customerID  gender  SeniorCitizen  ... MonthlyCharges TotalCharges  Churn\n",
              "0  7590-VHVEG  Female              0  ...          29.85        29.85     No\n",
              "1  5575-GNVDE    Male              0  ...          56.95       1889.5     No\n",
              "2  3668-QPYBK    Male              0  ...          53.85       108.15    Yes\n",
              "3  7795-CFOCW    Male              0  ...          42.30      1840.75     No\n",
              "4  9237-HQITU  Female              0  ...          70.70       151.65    Yes\n",
              "\n",
              "[5 rows x 21 columns]"
            ]
          },
          "metadata": {
            "tags": []
          },
          "execution_count": 8
        }
      ]
    },
    {
      "cell_type": "code",
      "metadata": {
        "colab": {
          "base_uri": "https://localhost:8080/"
        },
        "id": "6bebP0RNmqx_",
        "outputId": "470ee80f-ee8f-429d-e334-3c4309c8335e"
      },
      "source": [
        "df.info()"
      ],
      "execution_count": null,
      "outputs": [
        {
          "output_type": "stream",
          "text": [
            "<class 'pandas.core.frame.DataFrame'>\n",
            "RangeIndex: 7043 entries, 0 to 7042\n",
            "Data columns (total 21 columns):\n",
            " #   Column            Non-Null Count  Dtype  \n",
            "---  ------            --------------  -----  \n",
            " 0   customerID        7043 non-null   object \n",
            " 1   gender            7043 non-null   object \n",
            " 2   SeniorCitizen     7043 non-null   int64  \n",
            " 3   Partner           7043 non-null   object \n",
            " 4   Dependents        7043 non-null   object \n",
            " 5   tenure            7043 non-null   int64  \n",
            " 6   PhoneService      7043 non-null   object \n",
            " 7   MultipleLines     7043 non-null   object \n",
            " 8   InternetService   7043 non-null   object \n",
            " 9   OnlineSecurity    7043 non-null   object \n",
            " 10  OnlineBackup      7043 non-null   object \n",
            " 11  DeviceProtection  7043 non-null   object \n",
            " 12  TechSupport       7043 non-null   object \n",
            " 13  StreamingTV       7043 non-null   object \n",
            " 14  StreamingMovies   7043 non-null   object \n",
            " 15  Contract          7043 non-null   object \n",
            " 16  PaperlessBilling  7043 non-null   object \n",
            " 17  PaymentMethod     7043 non-null   object \n",
            " 18  MonthlyCharges    7043 non-null   float64\n",
            " 19  TotalCharges      7043 non-null   object \n",
            " 20  Churn             7043 non-null   object \n",
            "dtypes: float64(1), int64(2), object(18)\n",
            "memory usage: 1.1+ MB\n"
          ],
          "name": "stdout"
        }
      ]
    },
    {
      "cell_type": "markdown",
      "metadata": {
        "id": "jL3pBzoxOduQ"
      },
      "source": [
        "### Comments:\n",
        "- The size of the dataset is 7043 records.\n",
        "  - The target variable is 'Churn,' which is has 2 values: \"Yes\" and \"No.\"\n",
        "  - The rest of the columns are 20 features that will be used to predict the target variable. \n",
        "- Additional data cleansing steps that can be inferred before we proceed are:    \n",
        "  - 'customerID' should be excluded because of the irrelevancy as well as privacy. \n",
        "  - 'TotalCharges' is in incorrect format, and needs to be changed to float. \n",
        "  - generating dummies for all categorical variables for processing. "
      ]
    },
    {
      "cell_type": "code",
      "metadata": {
        "id": "6l5DrAWhmktP"
      },
      "source": [
        "#drop unnecessary column 'customerID'\n",
        "df.drop('customerID', axis=1,inplace=True)"
      ],
      "execution_count": null,
      "outputs": []
    },
    {
      "cell_type": "markdown",
      "metadata": {
        "id": "rdVwiSiwQySp"
      },
      "source": [
        "The steps to change types of 'TotalCharges' involve:\n",
        "  - stripping off the spaces if there are any in the strings\n",
        "  - changing the type to numeric\n",
        "  - checking for NA values after changing the type\n",
        "  - dropping NA values if there are any"
      ]
    },
    {
      "cell_type": "code",
      "metadata": {
        "colab": {
          "base_uri": "https://localhost:8080/"
        },
        "id": "zptxoiBBoe3R",
        "outputId": "2d5ac030-8aea-4d5c-d9de-1acca4cf0440"
      },
      "source": [
        "#change type of 'TotalCharges'\n",
        "df.TotalCharges= df.TotalCharges.apply(lambda x: x.strip())\n",
        "df['TotalCharges'] = pd.to_numeric(df.TotalCharges, errors='coerce')\n",
        "df.TotalCharges.isna().sum()"
      ],
      "execution_count": null,
      "outputs": [
        {
          "output_type": "execute_result",
          "data": {
            "text/plain": [
              "11"
            ]
          },
          "metadata": {
            "tags": []
          },
          "execution_count": 11
        }
      ]
    },
    {
      "cell_type": "code",
      "metadata": {
        "colab": {
          "base_uri": "https://localhost:8080/"
        },
        "id": "U4z1swb8qGdf",
        "outputId": "37f77a05-3fa1-4735-9bf8-8d904897a343"
      },
      "source": [
        "#drop na, reset index\n",
        "df=df.dropna()\n",
        "df.reset_index(drop=True, inplace=True)\n",
        "df.TotalCharges.isna().sum()"
      ],
      "execution_count": null,
      "outputs": [
        {
          "output_type": "execute_result",
          "data": {
            "text/plain": [
              "0"
            ]
          },
          "metadata": {
            "tags": []
          },
          "execution_count": 12
        }
      ]
    },
    {
      "cell_type": "code",
      "metadata": {
        "colab": {
          "base_uri": "https://localhost:8080/"
        },
        "id": "Ls1cVzcSRdIJ",
        "outputId": "e92a408a-142e-42bc-d37d-78cd88c2615d"
      },
      "source": [
        "df.info()"
      ],
      "execution_count": null,
      "outputs": [
        {
          "output_type": "stream",
          "text": [
            "<class 'pandas.core.frame.DataFrame'>\n",
            "RangeIndex: 7032 entries, 0 to 7031\n",
            "Data columns (total 20 columns):\n",
            " #   Column            Non-Null Count  Dtype  \n",
            "---  ------            --------------  -----  \n",
            " 0   gender            7032 non-null   object \n",
            " 1   SeniorCitizen     7032 non-null   int64  \n",
            " 2   Partner           7032 non-null   object \n",
            " 3   Dependents        7032 non-null   object \n",
            " 4   tenure            7032 non-null   int64  \n",
            " 5   PhoneService      7032 non-null   object \n",
            " 6   MultipleLines     7032 non-null   object \n",
            " 7   InternetService   7032 non-null   object \n",
            " 8   OnlineSecurity    7032 non-null   object \n",
            " 9   OnlineBackup      7032 non-null   object \n",
            " 10  DeviceProtection  7032 non-null   object \n",
            " 11  TechSupport       7032 non-null   object \n",
            " 12  StreamingTV       7032 non-null   object \n",
            " 13  StreamingMovies   7032 non-null   object \n",
            " 14  Contract          7032 non-null   object \n",
            " 15  PaperlessBilling  7032 non-null   object \n",
            " 16  PaymentMethod     7032 non-null   object \n",
            " 17  MonthlyCharges    7032 non-null   float64\n",
            " 18  TotalCharges      7032 non-null   float64\n",
            " 19  Churn             7032 non-null   object \n",
            "dtypes: float64(2), int64(2), object(16)\n",
            "memory usage: 1.1+ MB\n"
          ],
          "name": "stdout"
        }
      ]
    },
    {
      "cell_type": "markdown",
      "metadata": {
        "id": "xtBqR16nRhM3"
      },
      "source": [
        "### Comments:\n",
        "- After finishing all the initial data cleansing, the dataset is the sample of 7032 data points, with 19 features and 1 target variable. "
      ]
    },
    {
      "cell_type": "markdown",
      "metadata": {
        "id": "wku8Z8CTJwj-"
      },
      "source": [
        "## Dealing with Categorical and Numerical Data\n",
        "- In this step, categorical and numerical variables are obtained for further usage convenience.  \n",
        "- In order to proceed with further analysis, dummies are generated for categorical variables, without using drop_first so that all information can be preserved for feature selection."
      ]
    },
    {
      "cell_type": "code",
      "metadata": {
        "colab": {
          "base_uri": "https://localhost:8080/"
        },
        "id": "t2KcnSf2zwUo",
        "outputId": "96267a27-8acb-4632-c842-179ffcdffa6c"
      },
      "source": [
        "#find categorical data\n",
        "cat_col = df.select_dtypes('object').columns\n",
        "non_cat_col = df.select_dtypes(exclude=['object'])\n",
        "print(cat_col)"
      ],
      "execution_count": null,
      "outputs": [
        {
          "output_type": "stream",
          "text": [
            "Index(['gender', 'Partner', 'Dependents', 'PhoneService', 'MultipleLines',\n",
            "       'InternetService', 'OnlineSecurity', 'OnlineBackup', 'DeviceProtection',\n",
            "       'TechSupport', 'StreamingTV', 'StreamingMovies', 'Contract',\n",
            "       'PaperlessBilling', 'PaymentMethod', 'Churn'],\n",
            "      dtype='object')\n"
          ],
          "name": "stdout"
        }
      ]
    },
    {
      "cell_type": "code",
      "metadata": {
        "colab": {
          "base_uri": "https://localhost:8080/",
          "height": 593
        },
        "id": "3OxSBmOBzQXm",
        "outputId": "e70a89c3-65b1-4d4a-f74b-381757905ffe"
      },
      "source": [
        "#generate dummies for both\n",
        "dummies = pd.get_dummies(df[['gender', 'Partner', 'Dependents', 'PhoneService', 'MultipleLines',\n",
        "       'InternetService', 'OnlineSecurity', 'OnlineBackup', 'DeviceProtection',\n",
        "       'TechSupport', 'StreamingTV', 'StreamingMovies', 'Contract',\n",
        "       'PaperlessBilling', 'PaymentMethod',  'Churn']],\n",
        "                         prefix = cat_col)\n",
        "\n",
        "#Join dummies with original data in a new dataframe\n",
        "df_train=df.join(dummies)\n",
        "#Show dataframe\n",
        "df_train"
      ],
      "execution_count": null,
      "outputs": [
        {
          "output_type": "execute_result",
          "data": {
            "text/html": [
              "<div>\n",
              "<style scoped>\n",
              "    .dataframe tbody tr th:only-of-type {\n",
              "        vertical-align: middle;\n",
              "    }\n",
              "\n",
              "    .dataframe tbody tr th {\n",
              "        vertical-align: top;\n",
              "    }\n",
              "\n",
              "    .dataframe thead th {\n",
              "        text-align: right;\n",
              "    }\n",
              "</style>\n",
              "<table border=\"1\" class=\"dataframe\">\n",
              "  <thead>\n",
              "    <tr style=\"text-align: right;\">\n",
              "      <th></th>\n",
              "      <th>gender</th>\n",
              "      <th>SeniorCitizen</th>\n",
              "      <th>Partner</th>\n",
              "      <th>Dependents</th>\n",
              "      <th>tenure</th>\n",
              "      <th>PhoneService</th>\n",
              "      <th>MultipleLines</th>\n",
              "      <th>InternetService</th>\n",
              "      <th>OnlineSecurity</th>\n",
              "      <th>OnlineBackup</th>\n",
              "      <th>DeviceProtection</th>\n",
              "      <th>TechSupport</th>\n",
              "      <th>StreamingTV</th>\n",
              "      <th>StreamingMovies</th>\n",
              "      <th>Contract</th>\n",
              "      <th>PaperlessBilling</th>\n",
              "      <th>PaymentMethod</th>\n",
              "      <th>MonthlyCharges</th>\n",
              "      <th>TotalCharges</th>\n",
              "      <th>Churn</th>\n",
              "      <th>gender_Female</th>\n",
              "      <th>gender_Male</th>\n",
              "      <th>Partner_No</th>\n",
              "      <th>Partner_Yes</th>\n",
              "      <th>Dependents_No</th>\n",
              "      <th>Dependents_Yes</th>\n",
              "      <th>PhoneService_No</th>\n",
              "      <th>PhoneService_Yes</th>\n",
              "      <th>MultipleLines_No</th>\n",
              "      <th>MultipleLines_No phone service</th>\n",
              "      <th>MultipleLines_Yes</th>\n",
              "      <th>InternetService_DSL</th>\n",
              "      <th>InternetService_Fiber optic</th>\n",
              "      <th>InternetService_No</th>\n",
              "      <th>OnlineSecurity_No</th>\n",
              "      <th>OnlineSecurity_No internet service</th>\n",
              "      <th>OnlineSecurity_Yes</th>\n",
              "      <th>OnlineBackup_No</th>\n",
              "      <th>OnlineBackup_No internet service</th>\n",
              "      <th>OnlineBackup_Yes</th>\n",
              "      <th>DeviceProtection_No</th>\n",
              "      <th>DeviceProtection_No internet service</th>\n",
              "      <th>DeviceProtection_Yes</th>\n",
              "      <th>TechSupport_No</th>\n",
              "      <th>TechSupport_No internet service</th>\n",
              "      <th>TechSupport_Yes</th>\n",
              "      <th>StreamingTV_No</th>\n",
              "      <th>StreamingTV_No internet service</th>\n",
              "      <th>StreamingTV_Yes</th>\n",
              "      <th>StreamingMovies_No</th>\n",
              "      <th>StreamingMovies_No internet service</th>\n",
              "      <th>StreamingMovies_Yes</th>\n",
              "      <th>Contract_Month-to-month</th>\n",
              "      <th>Contract_One year</th>\n",
              "      <th>Contract_Two year</th>\n",
              "      <th>PaperlessBilling_No</th>\n",
              "      <th>PaperlessBilling_Yes</th>\n",
              "      <th>PaymentMethod_Bank transfer (automatic)</th>\n",
              "      <th>PaymentMethod_Credit card (automatic)</th>\n",
              "      <th>PaymentMethod_Electronic check</th>\n",
              "      <th>PaymentMethod_Mailed check</th>\n",
              "      <th>Churn_No</th>\n",
              "      <th>Churn_Yes</th>\n",
              "    </tr>\n",
              "  </thead>\n",
              "  <tbody>\n",
              "    <tr>\n",
              "      <th>0</th>\n",
              "      <td>Female</td>\n",
              "      <td>0</td>\n",
              "      <td>Yes</td>\n",
              "      <td>No</td>\n",
              "      <td>1</td>\n",
              "      <td>No</td>\n",
              "      <td>No phone service</td>\n",
              "      <td>DSL</td>\n",
              "      <td>No</td>\n",
              "      <td>Yes</td>\n",
              "      <td>No</td>\n",
              "      <td>No</td>\n",
              "      <td>No</td>\n",
              "      <td>No</td>\n",
              "      <td>Month-to-month</td>\n",
              "      <td>Yes</td>\n",
              "      <td>Electronic check</td>\n",
              "      <td>29.85</td>\n",
              "      <td>29.85</td>\n",
              "      <td>No</td>\n",
              "      <td>1</td>\n",
              "      <td>0</td>\n",
              "      <td>0</td>\n",
              "      <td>1</td>\n",
              "      <td>1</td>\n",
              "      <td>0</td>\n",
              "      <td>1</td>\n",
              "      <td>0</td>\n",
              "      <td>0</td>\n",
              "      <td>1</td>\n",
              "      <td>0</td>\n",
              "      <td>1</td>\n",
              "      <td>0</td>\n",
              "      <td>0</td>\n",
              "      <td>1</td>\n",
              "      <td>0</td>\n",
              "      <td>0</td>\n",
              "      <td>0</td>\n",
              "      <td>0</td>\n",
              "      <td>1</td>\n",
              "      <td>1</td>\n",
              "      <td>0</td>\n",
              "      <td>0</td>\n",
              "      <td>1</td>\n",
              "      <td>0</td>\n",
              "      <td>0</td>\n",
              "      <td>1</td>\n",
              "      <td>0</td>\n",
              "      <td>0</td>\n",
              "      <td>1</td>\n",
              "      <td>0</td>\n",
              "      <td>0</td>\n",
              "      <td>1</td>\n",
              "      <td>0</td>\n",
              "      <td>0</td>\n",
              "      <td>0</td>\n",
              "      <td>1</td>\n",
              "      <td>0</td>\n",
              "      <td>0</td>\n",
              "      <td>1</td>\n",
              "      <td>0</td>\n",
              "      <td>1</td>\n",
              "      <td>0</td>\n",
              "    </tr>\n",
              "    <tr>\n",
              "      <th>1</th>\n",
              "      <td>Male</td>\n",
              "      <td>0</td>\n",
              "      <td>No</td>\n",
              "      <td>No</td>\n",
              "      <td>34</td>\n",
              "      <td>Yes</td>\n",
              "      <td>No</td>\n",
              "      <td>DSL</td>\n",
              "      <td>Yes</td>\n",
              "      <td>No</td>\n",
              "      <td>Yes</td>\n",
              "      <td>No</td>\n",
              "      <td>No</td>\n",
              "      <td>No</td>\n",
              "      <td>One year</td>\n",
              "      <td>No</td>\n",
              "      <td>Mailed check</td>\n",
              "      <td>56.95</td>\n",
              "      <td>1889.50</td>\n",
              "      <td>No</td>\n",
              "      <td>0</td>\n",
              "      <td>1</td>\n",
              "      <td>1</td>\n",
              "      <td>0</td>\n",
              "      <td>1</td>\n",
              "      <td>0</td>\n",
              "      <td>0</td>\n",
              "      <td>1</td>\n",
              "      <td>1</td>\n",
              "      <td>0</td>\n",
              "      <td>0</td>\n",
              "      <td>1</td>\n",
              "      <td>0</td>\n",
              "      <td>0</td>\n",
              "      <td>0</td>\n",
              "      <td>0</td>\n",
              "      <td>1</td>\n",
              "      <td>1</td>\n",
              "      <td>0</td>\n",
              "      <td>0</td>\n",
              "      <td>0</td>\n",
              "      <td>0</td>\n",
              "      <td>1</td>\n",
              "      <td>1</td>\n",
              "      <td>0</td>\n",
              "      <td>0</td>\n",
              "      <td>1</td>\n",
              "      <td>0</td>\n",
              "      <td>0</td>\n",
              "      <td>1</td>\n",
              "      <td>0</td>\n",
              "      <td>0</td>\n",
              "      <td>0</td>\n",
              "      <td>1</td>\n",
              "      <td>0</td>\n",
              "      <td>1</td>\n",
              "      <td>0</td>\n",
              "      <td>0</td>\n",
              "      <td>0</td>\n",
              "      <td>0</td>\n",
              "      <td>1</td>\n",
              "      <td>1</td>\n",
              "      <td>0</td>\n",
              "    </tr>\n",
              "    <tr>\n",
              "      <th>2</th>\n",
              "      <td>Male</td>\n",
              "      <td>0</td>\n",
              "      <td>No</td>\n",
              "      <td>No</td>\n",
              "      <td>2</td>\n",
              "      <td>Yes</td>\n",
              "      <td>No</td>\n",
              "      <td>DSL</td>\n",
              "      <td>Yes</td>\n",
              "      <td>Yes</td>\n",
              "      <td>No</td>\n",
              "      <td>No</td>\n",
              "      <td>No</td>\n",
              "      <td>No</td>\n",
              "      <td>Month-to-month</td>\n",
              "      <td>Yes</td>\n",
              "      <td>Mailed check</td>\n",
              "      <td>53.85</td>\n",
              "      <td>108.15</td>\n",
              "      <td>Yes</td>\n",
              "      <td>0</td>\n",
              "      <td>1</td>\n",
              "      <td>1</td>\n",
              "      <td>0</td>\n",
              "      <td>1</td>\n",
              "      <td>0</td>\n",
              "      <td>0</td>\n",
              "      <td>1</td>\n",
              "      <td>1</td>\n",
              "      <td>0</td>\n",
              "      <td>0</td>\n",
              "      <td>1</td>\n",
              "      <td>0</td>\n",
              "      <td>0</td>\n",
              "      <td>0</td>\n",
              "      <td>0</td>\n",
              "      <td>1</td>\n",
              "      <td>0</td>\n",
              "      <td>0</td>\n",
              "      <td>1</td>\n",
              "      <td>1</td>\n",
              "      <td>0</td>\n",
              "      <td>0</td>\n",
              "      <td>1</td>\n",
              "      <td>0</td>\n",
              "      <td>0</td>\n",
              "      <td>1</td>\n",
              "      <td>0</td>\n",
              "      <td>0</td>\n",
              "      <td>1</td>\n",
              "      <td>0</td>\n",
              "      <td>0</td>\n",
              "      <td>1</td>\n",
              "      <td>0</td>\n",
              "      <td>0</td>\n",
              "      <td>0</td>\n",
              "      <td>1</td>\n",
              "      <td>0</td>\n",
              "      <td>0</td>\n",
              "      <td>0</td>\n",
              "      <td>1</td>\n",
              "      <td>0</td>\n",
              "      <td>1</td>\n",
              "    </tr>\n",
              "    <tr>\n",
              "      <th>3</th>\n",
              "      <td>Male</td>\n",
              "      <td>0</td>\n",
              "      <td>No</td>\n",
              "      <td>No</td>\n",
              "      <td>45</td>\n",
              "      <td>No</td>\n",
              "      <td>No phone service</td>\n",
              "      <td>DSL</td>\n",
              "      <td>Yes</td>\n",
              "      <td>No</td>\n",
              "      <td>Yes</td>\n",
              "      <td>Yes</td>\n",
              "      <td>No</td>\n",
              "      <td>No</td>\n",
              "      <td>One year</td>\n",
              "      <td>No</td>\n",
              "      <td>Bank transfer (automatic)</td>\n",
              "      <td>42.30</td>\n",
              "      <td>1840.75</td>\n",
              "      <td>No</td>\n",
              "      <td>0</td>\n",
              "      <td>1</td>\n",
              "      <td>1</td>\n",
              "      <td>0</td>\n",
              "      <td>1</td>\n",
              "      <td>0</td>\n",
              "      <td>1</td>\n",
              "      <td>0</td>\n",
              "      <td>0</td>\n",
              "      <td>1</td>\n",
              "      <td>0</td>\n",
              "      <td>1</td>\n",
              "      <td>0</td>\n",
              "      <td>0</td>\n",
              "      <td>0</td>\n",
              "      <td>0</td>\n",
              "      <td>1</td>\n",
              "      <td>1</td>\n",
              "      <td>0</td>\n",
              "      <td>0</td>\n",
              "      <td>0</td>\n",
              "      <td>0</td>\n",
              "      <td>1</td>\n",
              "      <td>0</td>\n",
              "      <td>0</td>\n",
              "      <td>1</td>\n",
              "      <td>1</td>\n",
              "      <td>0</td>\n",
              "      <td>0</td>\n",
              "      <td>1</td>\n",
              "      <td>0</td>\n",
              "      <td>0</td>\n",
              "      <td>0</td>\n",
              "      <td>1</td>\n",
              "      <td>0</td>\n",
              "      <td>1</td>\n",
              "      <td>0</td>\n",
              "      <td>1</td>\n",
              "      <td>0</td>\n",
              "      <td>0</td>\n",
              "      <td>0</td>\n",
              "      <td>1</td>\n",
              "      <td>0</td>\n",
              "    </tr>\n",
              "    <tr>\n",
              "      <th>4</th>\n",
              "      <td>Female</td>\n",
              "      <td>0</td>\n",
              "      <td>No</td>\n",
              "      <td>No</td>\n",
              "      <td>2</td>\n",
              "      <td>Yes</td>\n",
              "      <td>No</td>\n",
              "      <td>Fiber optic</td>\n",
              "      <td>No</td>\n",
              "      <td>No</td>\n",
              "      <td>No</td>\n",
              "      <td>No</td>\n",
              "      <td>No</td>\n",
              "      <td>No</td>\n",
              "      <td>Month-to-month</td>\n",
              "      <td>Yes</td>\n",
              "      <td>Electronic check</td>\n",
              "      <td>70.70</td>\n",
              "      <td>151.65</td>\n",
              "      <td>Yes</td>\n",
              "      <td>1</td>\n",
              "      <td>0</td>\n",
              "      <td>1</td>\n",
              "      <td>0</td>\n",
              "      <td>1</td>\n",
              "      <td>0</td>\n",
              "      <td>0</td>\n",
              "      <td>1</td>\n",
              "      <td>1</td>\n",
              "      <td>0</td>\n",
              "      <td>0</td>\n",
              "      <td>0</td>\n",
              "      <td>1</td>\n",
              "      <td>0</td>\n",
              "      <td>1</td>\n",
              "      <td>0</td>\n",
              "      <td>0</td>\n",
              "      <td>1</td>\n",
              "      <td>0</td>\n",
              "      <td>0</td>\n",
              "      <td>1</td>\n",
              "      <td>0</td>\n",
              "      <td>0</td>\n",
              "      <td>1</td>\n",
              "      <td>0</td>\n",
              "      <td>0</td>\n",
              "      <td>1</td>\n",
              "      <td>0</td>\n",
              "      <td>0</td>\n",
              "      <td>1</td>\n",
              "      <td>0</td>\n",
              "      <td>0</td>\n",
              "      <td>1</td>\n",
              "      <td>0</td>\n",
              "      <td>0</td>\n",
              "      <td>0</td>\n",
              "      <td>1</td>\n",
              "      <td>0</td>\n",
              "      <td>0</td>\n",
              "      <td>1</td>\n",
              "      <td>0</td>\n",
              "      <td>0</td>\n",
              "      <td>1</td>\n",
              "    </tr>\n",
              "    <tr>\n",
              "      <th>...</th>\n",
              "      <td>...</td>\n",
              "      <td>...</td>\n",
              "      <td>...</td>\n",
              "      <td>...</td>\n",
              "      <td>...</td>\n",
              "      <td>...</td>\n",
              "      <td>...</td>\n",
              "      <td>...</td>\n",
              "      <td>...</td>\n",
              "      <td>...</td>\n",
              "      <td>...</td>\n",
              "      <td>...</td>\n",
              "      <td>...</td>\n",
              "      <td>...</td>\n",
              "      <td>...</td>\n",
              "      <td>...</td>\n",
              "      <td>...</td>\n",
              "      <td>...</td>\n",
              "      <td>...</td>\n",
              "      <td>...</td>\n",
              "      <td>...</td>\n",
              "      <td>...</td>\n",
              "      <td>...</td>\n",
              "      <td>...</td>\n",
              "      <td>...</td>\n",
              "      <td>...</td>\n",
              "      <td>...</td>\n",
              "      <td>...</td>\n",
              "      <td>...</td>\n",
              "      <td>...</td>\n",
              "      <td>...</td>\n",
              "      <td>...</td>\n",
              "      <td>...</td>\n",
              "      <td>...</td>\n",
              "      <td>...</td>\n",
              "      <td>...</td>\n",
              "      <td>...</td>\n",
              "      <td>...</td>\n",
              "      <td>...</td>\n",
              "      <td>...</td>\n",
              "      <td>...</td>\n",
              "      <td>...</td>\n",
              "      <td>...</td>\n",
              "      <td>...</td>\n",
              "      <td>...</td>\n",
              "      <td>...</td>\n",
              "      <td>...</td>\n",
              "      <td>...</td>\n",
              "      <td>...</td>\n",
              "      <td>...</td>\n",
              "      <td>...</td>\n",
              "      <td>...</td>\n",
              "      <td>...</td>\n",
              "      <td>...</td>\n",
              "      <td>...</td>\n",
              "      <td>...</td>\n",
              "      <td>...</td>\n",
              "      <td>...</td>\n",
              "      <td>...</td>\n",
              "      <td>...</td>\n",
              "      <td>...</td>\n",
              "      <td>...</td>\n",
              "      <td>...</td>\n",
              "    </tr>\n",
              "    <tr>\n",
              "      <th>7027</th>\n",
              "      <td>Male</td>\n",
              "      <td>0</td>\n",
              "      <td>Yes</td>\n",
              "      <td>Yes</td>\n",
              "      <td>24</td>\n",
              "      <td>Yes</td>\n",
              "      <td>Yes</td>\n",
              "      <td>DSL</td>\n",
              "      <td>Yes</td>\n",
              "      <td>No</td>\n",
              "      <td>Yes</td>\n",
              "      <td>Yes</td>\n",
              "      <td>Yes</td>\n",
              "      <td>Yes</td>\n",
              "      <td>One year</td>\n",
              "      <td>Yes</td>\n",
              "      <td>Mailed check</td>\n",
              "      <td>84.80</td>\n",
              "      <td>1990.50</td>\n",
              "      <td>No</td>\n",
              "      <td>0</td>\n",
              "      <td>1</td>\n",
              "      <td>0</td>\n",
              "      <td>1</td>\n",
              "      <td>0</td>\n",
              "      <td>1</td>\n",
              "      <td>0</td>\n",
              "      <td>1</td>\n",
              "      <td>0</td>\n",
              "      <td>0</td>\n",
              "      <td>1</td>\n",
              "      <td>1</td>\n",
              "      <td>0</td>\n",
              "      <td>0</td>\n",
              "      <td>0</td>\n",
              "      <td>0</td>\n",
              "      <td>1</td>\n",
              "      <td>1</td>\n",
              "      <td>0</td>\n",
              "      <td>0</td>\n",
              "      <td>0</td>\n",
              "      <td>0</td>\n",
              "      <td>1</td>\n",
              "      <td>0</td>\n",
              "      <td>0</td>\n",
              "      <td>1</td>\n",
              "      <td>0</td>\n",
              "      <td>0</td>\n",
              "      <td>1</td>\n",
              "      <td>0</td>\n",
              "      <td>0</td>\n",
              "      <td>1</td>\n",
              "      <td>0</td>\n",
              "      <td>1</td>\n",
              "      <td>0</td>\n",
              "      <td>0</td>\n",
              "      <td>1</td>\n",
              "      <td>0</td>\n",
              "      <td>0</td>\n",
              "      <td>0</td>\n",
              "      <td>1</td>\n",
              "      <td>1</td>\n",
              "      <td>0</td>\n",
              "    </tr>\n",
              "    <tr>\n",
              "      <th>7028</th>\n",
              "      <td>Female</td>\n",
              "      <td>0</td>\n",
              "      <td>Yes</td>\n",
              "      <td>Yes</td>\n",
              "      <td>72</td>\n",
              "      <td>Yes</td>\n",
              "      <td>Yes</td>\n",
              "      <td>Fiber optic</td>\n",
              "      <td>No</td>\n",
              "      <td>Yes</td>\n",
              "      <td>Yes</td>\n",
              "      <td>No</td>\n",
              "      <td>Yes</td>\n",
              "      <td>Yes</td>\n",
              "      <td>One year</td>\n",
              "      <td>Yes</td>\n",
              "      <td>Credit card (automatic)</td>\n",
              "      <td>103.20</td>\n",
              "      <td>7362.90</td>\n",
              "      <td>No</td>\n",
              "      <td>1</td>\n",
              "      <td>0</td>\n",
              "      <td>0</td>\n",
              "      <td>1</td>\n",
              "      <td>0</td>\n",
              "      <td>1</td>\n",
              "      <td>0</td>\n",
              "      <td>1</td>\n",
              "      <td>0</td>\n",
              "      <td>0</td>\n",
              "      <td>1</td>\n",
              "      <td>0</td>\n",
              "      <td>1</td>\n",
              "      <td>0</td>\n",
              "      <td>1</td>\n",
              "      <td>0</td>\n",
              "      <td>0</td>\n",
              "      <td>0</td>\n",
              "      <td>0</td>\n",
              "      <td>1</td>\n",
              "      <td>0</td>\n",
              "      <td>0</td>\n",
              "      <td>1</td>\n",
              "      <td>1</td>\n",
              "      <td>0</td>\n",
              "      <td>0</td>\n",
              "      <td>0</td>\n",
              "      <td>0</td>\n",
              "      <td>1</td>\n",
              "      <td>0</td>\n",
              "      <td>0</td>\n",
              "      <td>1</td>\n",
              "      <td>0</td>\n",
              "      <td>1</td>\n",
              "      <td>0</td>\n",
              "      <td>0</td>\n",
              "      <td>1</td>\n",
              "      <td>0</td>\n",
              "      <td>1</td>\n",
              "      <td>0</td>\n",
              "      <td>0</td>\n",
              "      <td>1</td>\n",
              "      <td>0</td>\n",
              "    </tr>\n",
              "    <tr>\n",
              "      <th>7029</th>\n",
              "      <td>Female</td>\n",
              "      <td>0</td>\n",
              "      <td>Yes</td>\n",
              "      <td>Yes</td>\n",
              "      <td>11</td>\n",
              "      <td>No</td>\n",
              "      <td>No phone service</td>\n",
              "      <td>DSL</td>\n",
              "      <td>Yes</td>\n",
              "      <td>No</td>\n",
              "      <td>No</td>\n",
              "      <td>No</td>\n",
              "      <td>No</td>\n",
              "      <td>No</td>\n",
              "      <td>Month-to-month</td>\n",
              "      <td>Yes</td>\n",
              "      <td>Electronic check</td>\n",
              "      <td>29.60</td>\n",
              "      <td>346.45</td>\n",
              "      <td>No</td>\n",
              "      <td>1</td>\n",
              "      <td>0</td>\n",
              "      <td>0</td>\n",
              "      <td>1</td>\n",
              "      <td>0</td>\n",
              "      <td>1</td>\n",
              "      <td>1</td>\n",
              "      <td>0</td>\n",
              "      <td>0</td>\n",
              "      <td>1</td>\n",
              "      <td>0</td>\n",
              "      <td>1</td>\n",
              "      <td>0</td>\n",
              "      <td>0</td>\n",
              "      <td>0</td>\n",
              "      <td>0</td>\n",
              "      <td>1</td>\n",
              "      <td>1</td>\n",
              "      <td>0</td>\n",
              "      <td>0</td>\n",
              "      <td>1</td>\n",
              "      <td>0</td>\n",
              "      <td>0</td>\n",
              "      <td>1</td>\n",
              "      <td>0</td>\n",
              "      <td>0</td>\n",
              "      <td>1</td>\n",
              "      <td>0</td>\n",
              "      <td>0</td>\n",
              "      <td>1</td>\n",
              "      <td>0</td>\n",
              "      <td>0</td>\n",
              "      <td>1</td>\n",
              "      <td>0</td>\n",
              "      <td>0</td>\n",
              "      <td>0</td>\n",
              "      <td>1</td>\n",
              "      <td>0</td>\n",
              "      <td>0</td>\n",
              "      <td>1</td>\n",
              "      <td>0</td>\n",
              "      <td>1</td>\n",
              "      <td>0</td>\n",
              "    </tr>\n",
              "    <tr>\n",
              "      <th>7030</th>\n",
              "      <td>Male</td>\n",
              "      <td>1</td>\n",
              "      <td>Yes</td>\n",
              "      <td>No</td>\n",
              "      <td>4</td>\n",
              "      <td>Yes</td>\n",
              "      <td>Yes</td>\n",
              "      <td>Fiber optic</td>\n",
              "      <td>No</td>\n",
              "      <td>No</td>\n",
              "      <td>No</td>\n",
              "      <td>No</td>\n",
              "      <td>No</td>\n",
              "      <td>No</td>\n",
              "      <td>Month-to-month</td>\n",
              "      <td>Yes</td>\n",
              "      <td>Mailed check</td>\n",
              "      <td>74.40</td>\n",
              "      <td>306.60</td>\n",
              "      <td>Yes</td>\n",
              "      <td>0</td>\n",
              "      <td>1</td>\n",
              "      <td>0</td>\n",
              "      <td>1</td>\n",
              "      <td>1</td>\n",
              "      <td>0</td>\n",
              "      <td>0</td>\n",
              "      <td>1</td>\n",
              "      <td>0</td>\n",
              "      <td>0</td>\n",
              "      <td>1</td>\n",
              "      <td>0</td>\n",
              "      <td>1</td>\n",
              "      <td>0</td>\n",
              "      <td>1</td>\n",
              "      <td>0</td>\n",
              "      <td>0</td>\n",
              "      <td>1</td>\n",
              "      <td>0</td>\n",
              "      <td>0</td>\n",
              "      <td>1</td>\n",
              "      <td>0</td>\n",
              "      <td>0</td>\n",
              "      <td>1</td>\n",
              "      <td>0</td>\n",
              "      <td>0</td>\n",
              "      <td>1</td>\n",
              "      <td>0</td>\n",
              "      <td>0</td>\n",
              "      <td>1</td>\n",
              "      <td>0</td>\n",
              "      <td>0</td>\n",
              "      <td>1</td>\n",
              "      <td>0</td>\n",
              "      <td>0</td>\n",
              "      <td>0</td>\n",
              "      <td>1</td>\n",
              "      <td>0</td>\n",
              "      <td>0</td>\n",
              "      <td>0</td>\n",
              "      <td>1</td>\n",
              "      <td>0</td>\n",
              "      <td>1</td>\n",
              "    </tr>\n",
              "    <tr>\n",
              "      <th>7031</th>\n",
              "      <td>Male</td>\n",
              "      <td>0</td>\n",
              "      <td>No</td>\n",
              "      <td>No</td>\n",
              "      <td>66</td>\n",
              "      <td>Yes</td>\n",
              "      <td>No</td>\n",
              "      <td>Fiber optic</td>\n",
              "      <td>Yes</td>\n",
              "      <td>No</td>\n",
              "      <td>Yes</td>\n",
              "      <td>Yes</td>\n",
              "      <td>Yes</td>\n",
              "      <td>Yes</td>\n",
              "      <td>Two year</td>\n",
              "      <td>Yes</td>\n",
              "      <td>Bank transfer (automatic)</td>\n",
              "      <td>105.65</td>\n",
              "      <td>6844.50</td>\n",
              "      <td>No</td>\n",
              "      <td>0</td>\n",
              "      <td>1</td>\n",
              "      <td>1</td>\n",
              "      <td>0</td>\n",
              "      <td>1</td>\n",
              "      <td>0</td>\n",
              "      <td>0</td>\n",
              "      <td>1</td>\n",
              "      <td>1</td>\n",
              "      <td>0</td>\n",
              "      <td>0</td>\n",
              "      <td>0</td>\n",
              "      <td>1</td>\n",
              "      <td>0</td>\n",
              "      <td>0</td>\n",
              "      <td>0</td>\n",
              "      <td>1</td>\n",
              "      <td>1</td>\n",
              "      <td>0</td>\n",
              "      <td>0</td>\n",
              "      <td>0</td>\n",
              "      <td>0</td>\n",
              "      <td>1</td>\n",
              "      <td>0</td>\n",
              "      <td>0</td>\n",
              "      <td>1</td>\n",
              "      <td>0</td>\n",
              "      <td>0</td>\n",
              "      <td>1</td>\n",
              "      <td>0</td>\n",
              "      <td>0</td>\n",
              "      <td>1</td>\n",
              "      <td>0</td>\n",
              "      <td>0</td>\n",
              "      <td>1</td>\n",
              "      <td>0</td>\n",
              "      <td>1</td>\n",
              "      <td>1</td>\n",
              "      <td>0</td>\n",
              "      <td>0</td>\n",
              "      <td>0</td>\n",
              "      <td>1</td>\n",
              "      <td>0</td>\n",
              "    </tr>\n",
              "  </tbody>\n",
              "</table>\n",
              "<p>7032 rows × 63 columns</p>\n",
              "</div>"
            ],
            "text/plain": [
              "      gender  SeniorCitizen  ... Churn_No Churn_Yes\n",
              "0     Female              0  ...        1         0\n",
              "1       Male              0  ...        1         0\n",
              "2       Male              0  ...        0         1\n",
              "3       Male              0  ...        1         0\n",
              "4     Female              0  ...        0         1\n",
              "...      ...            ...  ...      ...       ...\n",
              "7027    Male              0  ...        1         0\n",
              "7028  Female              0  ...        1         0\n",
              "7029  Female              0  ...        1         0\n",
              "7030    Male              1  ...        0         1\n",
              "7031    Male              0  ...        1         0\n",
              "\n",
              "[7032 rows x 63 columns]"
            ]
          },
          "metadata": {
            "tags": []
          },
          "execution_count": 15
        }
      ]
    },
    {
      "cell_type": "markdown",
      "metadata": {
        "id": "ZYwLJIljRxMH"
      },
      "source": [
        "# 2. Exploratory Data Analysis\n",
        "- In this step, we will focus on discovering the features and their relationships with our target variable, in order to find patterns and potential outliers that are likely to affect the models. "
      ]
    },
    {
      "cell_type": "markdown",
      "metadata": {
        "id": "wfaKs8ILS-jg"
      },
      "source": [
        "## 2.1 Numerical variables"
      ]
    },
    {
      "cell_type": "code",
      "metadata": {
        "colab": {
          "base_uri": "https://localhost:8080/",
          "height": 167
        },
        "id": "UR7FdHpzWwm6",
        "outputId": "03fad97f-5f8a-4083-9f0d-6325c04b1196"
      },
      "source": [
        "df.corr()"
      ],
      "execution_count": null,
      "outputs": [
        {
          "output_type": "execute_result",
          "data": {
            "text/html": [
              "<div>\n",
              "<style scoped>\n",
              "    .dataframe tbody tr th:only-of-type {\n",
              "        vertical-align: middle;\n",
              "    }\n",
              "\n",
              "    .dataframe tbody tr th {\n",
              "        vertical-align: top;\n",
              "    }\n",
              "\n",
              "    .dataframe thead th {\n",
              "        text-align: right;\n",
              "    }\n",
              "</style>\n",
              "<table border=\"1\" class=\"dataframe\">\n",
              "  <thead>\n",
              "    <tr style=\"text-align: right;\">\n",
              "      <th></th>\n",
              "      <th>SeniorCitizen</th>\n",
              "      <th>tenure</th>\n",
              "      <th>MonthlyCharges</th>\n",
              "      <th>TotalCharges</th>\n",
              "    </tr>\n",
              "  </thead>\n",
              "  <tbody>\n",
              "    <tr>\n",
              "      <th>SeniorCitizen</th>\n",
              "      <td>1.000000</td>\n",
              "      <td>0.015683</td>\n",
              "      <td>0.219874</td>\n",
              "      <td>0.102411</td>\n",
              "    </tr>\n",
              "    <tr>\n",
              "      <th>tenure</th>\n",
              "      <td>0.015683</td>\n",
              "      <td>1.000000</td>\n",
              "      <td>0.246862</td>\n",
              "      <td>0.825880</td>\n",
              "    </tr>\n",
              "    <tr>\n",
              "      <th>MonthlyCharges</th>\n",
              "      <td>0.219874</td>\n",
              "      <td>0.246862</td>\n",
              "      <td>1.000000</td>\n",
              "      <td>0.651065</td>\n",
              "    </tr>\n",
              "    <tr>\n",
              "      <th>TotalCharges</th>\n",
              "      <td>0.102411</td>\n",
              "      <td>0.825880</td>\n",
              "      <td>0.651065</td>\n",
              "      <td>1.000000</td>\n",
              "    </tr>\n",
              "  </tbody>\n",
              "</table>\n",
              "</div>"
            ],
            "text/plain": [
              "                SeniorCitizen    tenure  MonthlyCharges  TotalCharges\n",
              "SeniorCitizen        1.000000  0.015683        0.219874      0.102411\n",
              "tenure               0.015683  1.000000        0.246862      0.825880\n",
              "MonthlyCharges       0.219874  0.246862        1.000000      0.651065\n",
              "TotalCharges         0.102411  0.825880        0.651065      1.000000"
            ]
          },
          "metadata": {
            "tags": []
          },
          "execution_count": 16
        }
      ]
    },
    {
      "cell_type": "code",
      "metadata": {
        "id": "j4eF6CrSWttm"
      },
      "source": [
        "def count_plot_cat(variable_name, dataf):\n",
        "    df_draw=(dataf.groupby([variable_name]))['Churn_Yes'].value_counts(normalize=True).rename('Percentage').mul(100).reset_index()\n",
        "    g = sns.barplot(x=variable_name,y='Percentage',hue='Churn_Yes',data=df_draw)\n",
        "    plt.title('Count plot ' + variable_name)\n",
        "    plt.show()\n",
        "\n",
        "def count_plot_numeric(variable_name):\n",
        "    sns.barplot(x=variable_name, y=variable_name, data=df_train, estimator=lambda x: len(x) / len(df) * 100)\n",
        "    plt.ylabel(\"Percent\")\n",
        "    plt.show()\n",
        "\n",
        "# Lastly, set a few properties for sns\n",
        "sns.set(style='darkgrid', palette=\"mako\", font_scale=1.1, rc={\"figure.figsize\": [8, 5]})"
      ],
      "execution_count": null,
      "outputs": []
    },
    {
      "cell_type": "code",
      "metadata": {
        "colab": {
          "base_uri": "https://localhost:8080/",
          "height": 564
        },
        "id": "RS4cvl3wXpRY",
        "outputId": "ad1b1f6c-ba5e-4fde-f8fd-003aa0cfb532"
      },
      "source": [
        "palette ={\"No\": \"C1\", \"Yes\": \"C3\"}\n",
        "sns.pairplot(data=df.drop('SeniorCitizen', axis=1), hue=\"Churn\", palette=palette)"
      ],
      "execution_count": null,
      "outputs": [
        {
          "output_type": "execute_result",
          "data": {
            "text/plain": [
              "<seaborn.axisgrid.PairGrid at 0x7fdec3634b90>"
            ]
          },
          "metadata": {
            "tags": []
          },
          "execution_count": 18
        },
        {
          "output_type": "display_data",
          "data": {
            "image/png": "[encoded data removed]",
            "text/plain": [
              "<Figure size 603.06x540 with 12 Axes>"
            ]
          },
          "metadata": {
            "tags": []
          }
        }
      ]
    },
    {
      "cell_type": "markdown",
      "metadata": {
        "id": "dbAVRctOTG3C"
      },
      "source": [
        "## 2.2 Categorical variables"
      ]
    },
    {
      "cell_type": "code",
      "metadata": {
        "colab": {
          "base_uri": "https://localhost:8080/",
          "height": 1000
        },
        "id": "7iflIPqqZBig",
        "outputId": "ede83b32-454c-4277-926d-e29958ec3582"
      },
      "source": [
        "for i in cat_col:\n",
        "  sns.countplot(hue=\"Churn_Yes\", x=i, data=df_train)\n",
        "  plt.show()"
      ],
      "execution_count": null,
      "outputs": [
        {
          "output_type": "display_data",
          "data": {
            "image/png": "[encoded data removed]",
            "text/plain": [
              "<Figure size 576x360 with 1 Axes>"
            ]
          },
          "metadata": {
            "tags": []
          }
        },
        {
          "output_type": "display_data",
          "data": {
            "image/png": "[encoded data removed]",
            "text/plain": [
              "<Figure size 576x360 with 1 Axes>"
            ]
          },
          "metadata": {
            "tags": []
          }
        },
        {
          "output_type": "display_data",
          "data": {
            "image/png": "[encoded data removed]",
            "text/plain": [
              "<Figure size 576x360 with 1 Axes>"
            ]
          },
          "metadata": {
            "tags": []
          }
        },
        {
          "output_type": "display_data",
          "data": {
            "image/png": "[encoded data removed]",
            "text/plain": [
              "<Figure size 576x360 with 1 Axes>"
            ]
          },
          "metadata": {
            "tags": []
          }
        },
        {
          "output_type": "display_data",
          "data": {
            "image/png": "[encoded data removed]",
            "text/plain": [
              "<Figure size 576x360 with 1 Axes>"
            ]
          },
          "metadata": {
            "tags": []
          }
        },
        {
          "output_type": "display_data",
          "data": {
            "image/png": "[encoded data removed]",
            "text/plain": [
              "<Figure size 576x360 with 1 Axes>"
            ]
          },
          "metadata": {
            "tags": []
          }
        },
        {
          "output_type": "display_data",
          "data": {
            "image/png": "[encoded data removed]",
            "text/plain": [
              "<Figure size 576x360 with 1 Axes>"
            ]
          },
          "metadata": {
            "tags": []
          }
        },
        {
          "output_type": "display_data",
          "data": {
            "image/png": "[encoded data removed]",
            "text/plain": [
              "<Figure size 576x360 with 1 Axes>"
            ]
          },
          "metadata": {
            "tags": []
          }
        },
        {
          "output_type": "display_data",
          "data": {
            "image/png": "[encoded data removed]",
            "text/plain": [
              "<Figure size 576x360 with 1 Axes>"
            ]
          },
          "metadata": {
            "tags": []
          }
        },
        {
          "output_type": "display_data",
          "data": {
            "image/png": "[encoded data removed]",
            "text/plain": [
              "<Figure size 576x360 with 1 Axes>"
            ]
          },
          "metadata": {
            "tags": []
          }
        },
        {
          "output_type": "display_data",
          "data": {
            "image/png": "[encoded data removed]",
            "text/plain": [
              "<Figure size 576x360 with 1 Axes>"
            ]
          },
          "metadata": {
            "tags": []
          }
        },
        {
          "output_type": "display_data",
          "data": {
            "image/png": "[encoded data removed]",
            "text/plain": [
              "<Figure size 576x360 with 1 Axes>"
            ]
          },
          "metadata": {
            "tags": []
          }
        },
        {
          "output_type": "display_data",
          "data": {
            "image/png": "[encoded data removed]",
            "text/plain": [
              "<Figure size 576x360 with 1 Axes>"
            ]
          },
          "metadata": {
            "tags": []
          }
        },
        {
          "output_type": "display_data",
          "data": {
            "image/png": "[encoded data removed]",
            "text/plain": [
              "<Figure size 576x360 with 1 Axes>"
            ]
          },
          "metadata": {
            "tags": []
          }
        },
        {
          "output_type": "display_data",
          "data": {
            "image/png": "[encoded data removed]",
            "text/plain": [
              "<Figure size 576x360 with 1 Axes>"
            ]
          },
          "metadata": {
            "tags": []
          }
        },
        {
          "output_type": "display_data",
          "data": {
            "image/png": "[encoded data removed]",
            "text/plain": [
              "<Figure size 576x360 with 1 Axes>"
            ]
          },
          "metadata": {
            "tags": []
          }
        }
      ]
    },
    {
      "cell_type": "code",
      "metadata": {
        "id": "ZcbaYwf3s_KC"
      },
      "source": [
        "df_train=df_train.drop(columns=cat_col, axis=1)"
      ],
      "execution_count": null,
      "outputs": []
    },
    {
      "cell_type": "code",
      "metadata": {
        "colab": {
          "base_uri": "https://localhost:8080/",
          "height": 342
        },
        "id": "yI1OCMzsbVA0",
        "outputId": "9da8021e-2070-46f3-978c-a3d59441e878"
      },
      "source": [
        "count_plot_numeric(\"Churn_Yes\")"
      ],
      "execution_count": null,
      "outputs": [
        {
          "output_type": "display_data",
          "data": {
            "image/png": "[encoded data removed]",
            "text/plain": [
              "<Figure size 576x360 with 1 Axes>"
            ]
          },
          "metadata": {
            "tags": []
          }
        }
      ]
    },
    {
      "cell_type": "markdown",
      "metadata": {
        "id": "9IazXVS7YKBk"
      },
      "source": [
        "### Comments:\n",
        "- About 28% of customers stopped using the services.\n",
        "- Because the data is skewed towards customers who still use the service, we will resample to make the data more balanced.\n"
      ]
    },
    {
      "cell_type": "code",
      "metadata": {
        "id": "vEXvh3-JtV8x"
      },
      "source": [
        "df_train=df_train.drop(columns=['Churn_No'], axis=1)"
      ],
      "execution_count": null,
      "outputs": []
    },
    {
      "cell_type": "code",
      "metadata": {
        "colab": {
          "base_uri": "https://localhost:8080/"
        },
        "id": "D2vrNc9NtKBT",
        "outputId": "bd2a0fc8-130e-4556-ab39-cbb56f4bcbc6"
      },
      "source": [
        "df_train.columns"
      ],
      "execution_count": null,
      "outputs": [
        {
          "output_type": "execute_result",
          "data": {
            "text/plain": [
              "Index(['SeniorCitizen', 'tenure', 'MonthlyCharges', 'TotalCharges',\n",
              "       'gender_Female', 'gender_Male', 'Partner_No', 'Partner_Yes',\n",
              "       'Dependents_No', 'Dependents_Yes', 'PhoneService_No',\n",
              "       'PhoneService_Yes', 'MultipleLines_No',\n",
              "       'MultipleLines_No phone service', 'MultipleLines_Yes',\n",
              "       'InternetService_DSL', 'InternetService_Fiber optic',\n",
              "       'InternetService_No', 'OnlineSecurity_No',\n",
              "       'OnlineSecurity_No internet service', 'OnlineSecurity_Yes',\n",
              "       'OnlineBackup_No', 'OnlineBackup_No internet service',\n",
              "       'OnlineBackup_Yes', 'DeviceProtection_No',\n",
              "       'DeviceProtection_No internet service', 'DeviceProtection_Yes',\n",
              "       'TechSupport_No', 'TechSupport_No internet service', 'TechSupport_Yes',\n",
              "       'StreamingTV_No', 'StreamingTV_No internet service', 'StreamingTV_Yes',\n",
              "       'StreamingMovies_No', 'StreamingMovies_No internet service',\n",
              "       'StreamingMovies_Yes', 'Contract_Month-to-month', 'Contract_One year',\n",
              "       'Contract_Two year', 'PaperlessBilling_No', 'PaperlessBilling_Yes',\n",
              "       'PaymentMethod_Bank transfer (automatic)',\n",
              "       'PaymentMethod_Credit card (automatic)',\n",
              "       'PaymentMethod_Electronic check', 'PaymentMethod_Mailed check',\n",
              "       'Churn_Yes'],\n",
              "      dtype='object')"
            ]
          },
          "metadata": {
            "tags": []
          },
          "execution_count": 23
        }
      ]
    },
    {
      "cell_type": "code",
      "metadata": {
        "id": "iDinlgtFtR0P"
      },
      "source": [
        "features = df_train.drop(columns=['Churn_Yes'])\n",
        "responses = df_train['Churn_Yes']"
      ],
      "execution_count": null,
      "outputs": []
    },
    {
      "cell_type": "markdown",
      "metadata": {
        "id": "kFmJAo6Hh5v1"
      },
      "source": [
        "# 3. Feature Selection\n",
        "- The first step is to rebalance the dataset to make it more balanced with RandomOverSampler.\n",
        "- To choose the most relevant set of features to train data, 4 feature selection methods will be used, including \n",
        "  - LinearSVC with SelectFromModel\n",
        "  - LogisticRegreession with SelectFromModel\n",
        "  - RandomForest with SelectFromModel\n",
        "  - SelectKBest with default k=10 using mutual_info_classif parameter"
      ]
    },
    {
      "cell_type": "markdown",
      "metadata": {
        "id": "YdFRcB6tal5J"
      },
      "source": [
        "## 3.1 Rebalance the dataset with RandomOverSampler"
      ]
    },
    {
      "cell_type": "code",
      "metadata": {
        "colab": {
          "base_uri": "https://localhost:8080/"
        },
        "id": "BIVAyzZr3hZh",
        "outputId": "77674b19-78d8-46e0-c3a6-60ba61b80d1f"
      },
      "source": [
        "from imblearn.over_sampling import RandomOverSampler\n",
        "\n",
        "# define resampling\n",
        "rus = RandomOverSampler(random_state=42)\n",
        "# fit predictor and target variable\n",
        "features_ros_ar, response_ros_ar = rus.fit_resample(features, responses)\n",
        "\n",
        "#put the features and response np.array to dataframe\n",
        "features_ros = pd.DataFrame(features_ros_ar, columns=features.columns)\n",
        "response_ros = pd.DataFrame(response_ros_ar, columns=['Churn_Yes'])\n",
        "\n",
        "print('Original dataset:', responses.describe(), \"\\n\")\n",
        "print('Resample dataset', response_ros.describe())\n",
        "\n",
        "#set sample set to use for training model\n",
        "features = features_ros\n",
        "responses = response_ros.squeeze()"
      ],
      "execution_count": null,
      "outputs": [
        {
          "output_type": "stream",
          "text": [
            "/usr/local/lib/python3.7/dist-packages/sklearn/externals/six.py:31: FutureWarning: The module is deprecated in version 0.21 and will be removed in version 0.23 since we've dropped support for Python 2.7. Please rely on the official version of six (https://pypi.org/project/six/).\n",
            "  \"(https://pypi.org/project/six/).\", FutureWarning)\n",
            "/usr/local/lib/python3.7/dist-packages/sklearn/utils/deprecation.py:144: FutureWarning: The sklearn.neighbors.base module is  deprecated in version 0.22 and will be removed in version 0.24. The corresponding classes / functions should instead be imported from sklearn.neighbors. Anything that cannot be imported from sklearn.neighbors is now part of the private API.\n",
            "  warnings.warn(message, FutureWarning)\n"
          ],
          "name": "stderr"
        },
        {
          "output_type": "stream",
          "text": [
            "Original dataset: count    7032.000000\n",
            "mean        0.265785\n",
            "std         0.441782\n",
            "min         0.000000\n",
            "25%         0.000000\n",
            "50%         0.000000\n",
            "75%         1.000000\n",
            "max         1.000000\n",
            "Name: Churn_Yes, dtype: float64 \n",
            "\n",
            "Resample dataset           Churn_Yes\n",
            "count  10326.000000\n",
            "mean       0.500000\n",
            "std        0.500024\n",
            "min        0.000000\n",
            "25%        0.000000\n",
            "50%        0.500000\n",
            "75%        1.000000\n",
            "max        1.000000\n"
          ],
          "name": "stdout"
        },
        {
          "output_type": "stream",
          "text": [
            "/usr/local/lib/python3.7/dist-packages/sklearn/utils/deprecation.py:87: FutureWarning: Function safe_indexing is deprecated; safe_indexing is deprecated in version 0.22 and will be removed in version 0.24.\n",
            "  warnings.warn(msg, category=FutureWarning)\n"
          ],
          "name": "stderr"
        }
      ]
    },
    {
      "cell_type": "markdown",
      "metadata": {
        "id": "xsky4d2iaHY7"
      },
      "source": [
        "### Comments:\n",
        "- Our new sample contains 10,326 data points, with the number of churned and active customers being more balanced, which will assist the prediction of our models in later stages.  "
      ]
    },
    {
      "cell_type": "code",
      "metadata": {
        "id": "BawtjbsWjdtR"
      },
      "source": [
        "#import libraries\n",
        "from sklearn.feature_selection import SelectFromModel\n",
        "from sklearn.linear_model import LogisticRegression\n",
        "from sklearn.ensemble import RandomForestClassifier\n",
        "from sklearn.feature_selection import SelectKBest, mutual_info_classif, chi2, f_classif,SelectFromModel\n",
        "from matplotlib import pyplot\n",
        "from sklearn.svm import LinearSVC"
      ],
      "execution_count": null,
      "outputs": []
    },
    {
      "cell_type": "code",
      "metadata": {
        "colab": {
          "base_uri": "https://localhost:8080/"
        },
        "id": "aBsbZYohjXN6",
        "outputId": "d7e33905-4db0-46f9-c9b5-fcacba2f29fd"
      },
      "source": [
        "#select feature with LinearSVC\n",
        "selector_svm = SelectFromModel(estimator=LinearSVC(dual=False,max_iter=10000,C=0.001)).fit(features, responses)\n",
        "svm_col=features.columns[selector_svm.get_support(indices=True)].tolist()\n",
        "\n",
        "#get name in list\n",
        "print(svm_col, \"\\nTotal features selected using SVM\", len(svm_col))\n",
        "features_svm = features[svm_col].copy()"
      ],
      "execution_count": null,
      "outputs": [
        {
          "output_type": "stream",
          "text": [
            "['SeniorCitizen', 'Dependents_Yes', 'PhoneService_No', 'PhoneService_Yes', 'MultipleLines_No', 'MultipleLines_No phone service', 'InternetService_DSL', 'InternetService_Fiber optic', 'OnlineSecurity_No', 'OnlineSecurity_Yes', 'TechSupport_No', 'TechSupport_Yes', 'Contract_Month-to-month', 'Contract_One year', 'Contract_Two year', 'PaperlessBilling_No', 'PaymentMethod_Credit card (automatic)', 'PaymentMethod_Electronic check', 'PaymentMethod_Mailed check'] \n",
            "Total features selected using SVM 19\n"
          ],
          "name": "stdout"
        }
      ]
    },
    {
      "cell_type": "code",
      "metadata": {
        "colab": {
          "base_uri": "https://localhost:8080/"
        },
        "id": "a7A-xnw8imku",
        "outputId": "56540a3e-bc8d-40bd-9a22-3e5fba367e5c"
      },
      "source": [
        "#select feature with logisticsregression\n",
        "selector_logistic = SelectFromModel(estimator=LogisticRegression(max_iter=5000))\n",
        "selector_logistic.fit(features, responses)\n",
        "#get name in list\n",
        "log_col=features.columns[selector_logistic.get_support(indices=True)].tolist()\n",
        "print(log_col, \"\\nTotal features selected using LogisticRegression\", len(log_col))\n",
        "features_log = features[log_col].copy()"
      ],
      "execution_count": null,
      "outputs": [
        {
          "output_type": "stream",
          "text": [
            "['SeniorCitizen', 'PhoneService_No', 'PhoneService_Yes', 'MultipleLines_No', 'MultipleLines_No phone service', 'InternetService_DSL', 'InternetService_Fiber optic', 'OnlineSecurity_No', 'OnlineSecurity_Yes', 'TechSupport_No', 'TechSupport_Yes', 'Contract_Month-to-month', 'Contract_Two year', 'PaperlessBilling_No', 'PaperlessBilling_Yes', 'PaymentMethod_Credit card (automatic)', 'PaymentMethod_Electronic check'] \n",
            "Total features selected using LogisticRegression 17\n"
          ],
          "name": "stdout"
        }
      ]
    },
    {
      "cell_type": "code",
      "metadata": {
        "colab": {
          "base_uri": "https://localhost:8080/"
        },
        "id": "5XS--CgUs1Qv",
        "outputId": "7765f0b5-aeb7-49b7-9cb9-93516be1a2ae"
      },
      "source": [
        "#select features with randomforest\n",
        "rf = RandomForestClassifier(n_estimators=200, max_leaf_nodes=16, random_state=42)\n",
        "selector_rf = SelectFromModel(estimator=rf)\n",
        "\n",
        "selector_rf.fit(features, responses)\n",
        "selector_rf.threshold_\n",
        "#get name in list\n",
        "rf_col=features.columns[selector_rf.get_support(indices=True)].tolist()\n",
        "print(rf_col, \"\\nTotal features selected using RandomForest:\", len(rf_col))\n",
        "features_rf=features[rf_col].copy()"
      ],
      "execution_count": null,
      "outputs": [
        {
          "output_type": "stream",
          "text": [
            "['tenure', 'MonthlyCharges', 'TotalCharges', 'InternetService_Fiber optic', 'OnlineSecurity_No', 'TechSupport_No', 'Contract_Month-to-month', 'Contract_Two year', 'PaymentMethod_Electronic check'] \n",
            "Total features selected using RandomForest: 9\n"
          ],
          "name": "stdout"
        }
      ]
    },
    {
      "cell_type": "code",
      "metadata": {
        "colab": {
          "base_uri": "https://localhost:8080/"
        },
        "id": "cKacxWW2iGW6",
        "outputId": "52214bdd-eaf8-45a9-8dd9-4213f3de5c76"
      },
      "source": [
        "#SelectKBest with mutual_info_classif\n",
        "selector_k = SelectKBest(mutual_info_classif)\n",
        "X_new = selector_k.fit_transform(features, responses)\n",
        "print(X_new)\n",
        "#get name in list\n",
        "k_col=features.columns[selector_k.get_support(indices=True)].tolist()\n",
        "print(k_col,\"\\nTotal features selected using SelectKBest:\",len(k_col))\n",
        "features_k = features[k_col].copy()"
      ],
      "execution_count": null,
      "outputs": [
        {
          "output_type": "stream",
          "text": [
            "[[1.0000e+00 2.9850e+01 2.9850e+01 ... 1.0000e+00 0.0000e+00 1.0000e+00]\n",
            " [3.4000e+01 5.6950e+01 1.8895e+03 ... 0.0000e+00 0.0000e+00 0.0000e+00]\n",
            " [2.0000e+00 5.3850e+01 1.0815e+02 ... 1.0000e+00 0.0000e+00 0.0000e+00]\n",
            " ...\n",
            " [4.6000e+01 9.3700e+01 4.1548e+03 ... 1.0000e+00 0.0000e+00 1.0000e+00]\n",
            " [3.0000e+00 3.4250e+01 1.3935e+02 ... 1.0000e+00 0.0000e+00 0.0000e+00]\n",
            " [2.0000e+00 9.5850e+01 1.9770e+02 ... 1.0000e+00 0.0000e+00 1.0000e+00]]\n",
            "['tenure', 'MonthlyCharges', 'TotalCharges', 'InternetService_Fiber optic', 'OnlineSecurity_No', 'TechSupport_No', 'StreamingMovies_No internet service', 'Contract_Month-to-month', 'Contract_Two year', 'PaymentMethod_Electronic check'] \n",
            "Total features selected using SelectKBest: 10\n"
          ],
          "name": "stdout"
        }
      ]
    },
    {
      "cell_type": "code",
      "metadata": {
        "id": "9rZNQfk2j6Za"
      },
      "source": [
        "#sert a dict with feature sets\n",
        "features_group = {'LogisticRegression': features_log, 'LinearSVM': features_svm, 'SelectKBest': features_k, 'RandomForest': features_rf}"
      ],
      "execution_count": null,
      "outputs": []
    },
    {
      "cell_type": "markdown",
      "metadata": {
        "id": "9Kj7YfYpkJ8M"
      },
      "source": [
        "## 3.3 Test Features Sets to choose best features set\n",
        "- In this step, we will choose features based on their average performance in 3 simple models. "
      ]
    },
    {
      "cell_type": "code",
      "metadata": {
        "id": "mlpYfb5hfPBW"
      },
      "source": [
        "from sklearn.preprocessing import RobustScaler\n",
        "from sklearn.model_selection import train_test_split\n",
        "from sklearn.pipeline import Pipeline\n",
        "from sklearn.linear_model import LogisticRegression\n",
        "from sklearn.neighbors import KNeighborsClassifier\n",
        "from sklearn.svm import SVC\n",
        "from sklearn.gaussian_process.kernels import RBF\n",
        "from sklearn.tree import DecisionTreeClassifier\n",
        "from sklearn.ensemble import RandomForestClassifier, AdaBoostClassifier, VotingClassifier\n",
        "from xgboost import XGBClassifier\n",
        "from sklearn.naive_bayes import GaussianNB\n",
        "from sklearn.metrics import accuracy_score, log_loss\n",
        "from sklearn.model_selection import GridSearchCV\n",
        "from sklearn.metrics import classification_report\n",
        "from sklearn.model_selection import KFold\n",
        "from xgboost import XGBClassifier"
      ],
      "execution_count": null,
      "outputs": []
    },
    {
      "cell_type": "code",
      "metadata": {
        "colab": {
          "base_uri": "https://localhost:8080/",
          "height": 478
        },
        "id": "WkxjKyEvkPZZ",
        "outputId": "aa6af32a-aa53-41d5-947f-83baf519b327"
      },
      "source": [
        "# #Names of the various classification approaches for easy presentation of the results\n",
        "names = [\"Logistic Regression\", \"LinearSVC\", \"Decision Tree\"]\n",
        "\n",
        "#Create a dataframe for prediction scores\n",
        "scores_df = pd.DataFrame(columns=['Classifier', 'Accuracy', 'Params', 'Feature_Selection', \"Num_Features\"])\n",
        "\n",
        "for key, curr_features in features_group.items():\n",
        "    print(\"Processing CV for feature selection evaluation - features selected by: \", key)\n",
        "    #Separate the data\n",
        "    X_train, X_test, Y_train, Y_test = train_test_split(curr_features, responses, \n",
        "                                                        test_size=0.25, \n",
        "                                                        random_state=42)\n",
        "\n",
        "    #scaling:\n",
        "    scaling=[RobustScaler()]\n",
        "\n",
        "    #list of classifiers\n",
        "    classifiers = [\n",
        "        LogisticRegression(),\n",
        "        SVC(kernel=\"linear\", probability=True),\n",
        "        DecisionTreeClassifier(max_depth=5),    \n",
        "    ]\n",
        "\n",
        "    #hyperparameters for cv\n",
        "    param_grid = [\n",
        "        {'classifier__max_iter': [1000,100]},\n",
        "        {'classifier__C': [0.001, 0.01, 0.1, 1, 10]},\n",
        "        {'classifier__min_samples_leaf': [1, 5]}\n",
        "    ]\n",
        "\n",
        "    #Create kfold object\n",
        "    kfold = KFold(n_splits=5)\n",
        "\n",
        "    #match the classifier and hyperparams\n",
        "    for index, classifier in enumerate(classifiers):\n",
        "        steps=[('scaler', RobustScaler()),('classifier', classifier)]\n",
        "        pipeline=Pipeline(steps)\n",
        "        cv = GridSearchCV(pipeline, param_grid=param_grid[index], cv=kfold, scoring='accuracy')\n",
        "        cv.fit(X_train, Y_train)\n",
        "        # check out best model performance\n",
        "        scores_df = scores_df.append({'Classifier': names[index], 'Accuracy': cv.best_score_, 'Params': cv.best_params_, 'Feature_Selection': key, \"Num_Features\" :len(curr_features.columns)}, ignore_index=True)\n",
        "\n",
        "scores_df"
      ],
      "execution_count": null,
      "outputs": [
        {
          "output_type": "stream",
          "text": [
            "Processing CV for feature selection evaluation - features selected by:  LogisticRegression\n",
            "Processing CV for feature selection evaluation - features selected by:  LinearSVM\n",
            "Processing CV for feature selection evaluation - features selected by:  SelectKBest\n",
            "Processing CV for feature selection evaluation - features selected by:  RandomForest\n"
          ],
          "name": "stdout"
        },
        {
          "output_type": "execute_result",
          "data": {
            "text/html": [
              "<div>\n",
              "<style scoped>\n",
              "    .dataframe tbody tr th:only-of-type {\n",
              "        vertical-align: middle;\n",
              "    }\n",
              "\n",
              "    .dataframe tbody tr th {\n",
              "        vertical-align: top;\n",
              "    }\n",
              "\n",
              "    .dataframe thead th {\n",
              "        text-align: right;\n",
              "    }\n",
              "</style>\n",
              "<table border=\"1\" class=\"dataframe\">\n",
              "  <thead>\n",
              "    <tr style=\"text-align: right;\">\n",
              "      <th></th>\n",
              "      <th>Classifier</th>\n",
              "      <th>Accuracy</th>\n",
              "      <th>Params</th>\n",
              "      <th>Feature_Selection</th>\n",
              "      <th>Num_Features</th>\n",
              "    </tr>\n",
              "  </thead>\n",
              "  <tbody>\n",
              "    <tr>\n",
              "      <th>0</th>\n",
              "      <td>Logistic Regression</td>\n",
              "      <td>0.750000</td>\n",
              "      <td>{'classifier__max_iter': 1000}</td>\n",
              "      <td>LogisticRegression</td>\n",
              "      <td>17</td>\n",
              "    </tr>\n",
              "    <tr>\n",
              "      <th>1</th>\n",
              "      <td>LinearSVC</td>\n",
              "      <td>0.746771</td>\n",
              "      <td>{'classifier__C': 0.001}</td>\n",
              "      <td>LogisticRegression</td>\n",
              "      <td>17</td>\n",
              "    </tr>\n",
              "    <tr>\n",
              "      <th>2</th>\n",
              "      <td>Decision Tree</td>\n",
              "      <td>0.749224</td>\n",
              "      <td>{'classifier__min_samples_leaf': 1}</td>\n",
              "      <td>LogisticRegression</td>\n",
              "      <td>17</td>\n",
              "    </tr>\n",
              "    <tr>\n",
              "      <th>3</th>\n",
              "      <td>Logistic Regression</td>\n",
              "      <td>0.748967</td>\n",
              "      <td>{'classifier__max_iter': 1000}</td>\n",
              "      <td>LinearSVM</td>\n",
              "      <td>19</td>\n",
              "    </tr>\n",
              "    <tr>\n",
              "      <th>4</th>\n",
              "      <td>LinearSVC</td>\n",
              "      <td>0.745351</td>\n",
              "      <td>{'classifier__C': 0.1}</td>\n",
              "      <td>LinearSVM</td>\n",
              "      <td>19</td>\n",
              "    </tr>\n",
              "    <tr>\n",
              "      <th>5</th>\n",
              "      <td>Decision Tree</td>\n",
              "      <td>0.748579</td>\n",
              "      <td>{'classifier__min_samples_leaf': 1}</td>\n",
              "      <td>LinearSVM</td>\n",
              "      <td>19</td>\n",
              "    </tr>\n",
              "    <tr>\n",
              "      <th>6</th>\n",
              "      <td>Logistic Regression</td>\n",
              "      <td>0.765755</td>\n",
              "      <td>{'classifier__max_iter': 1000}</td>\n",
              "      <td>SelectKBest</td>\n",
              "      <td>10</td>\n",
              "    </tr>\n",
              "    <tr>\n",
              "      <th>7</th>\n",
              "      <td>LinearSVC</td>\n",
              "      <td>0.755553</td>\n",
              "      <td>{'classifier__C': 0.01}</td>\n",
              "      <td>SelectKBest</td>\n",
              "      <td>10</td>\n",
              "    </tr>\n",
              "    <tr>\n",
              "      <th>8</th>\n",
              "      <td>Decision Tree</td>\n",
              "      <td>0.768078</td>\n",
              "      <td>{'classifier__min_samples_leaf': 1}</td>\n",
              "      <td>SelectKBest</td>\n",
              "      <td>10</td>\n",
              "    </tr>\n",
              "    <tr>\n",
              "      <th>9</th>\n",
              "      <td>Logistic Regression</td>\n",
              "      <td>0.765496</td>\n",
              "      <td>{'classifier__max_iter': 1000}</td>\n",
              "      <td>RandomForest</td>\n",
              "      <td>9</td>\n",
              "    </tr>\n",
              "    <tr>\n",
              "      <th>10</th>\n",
              "      <td>LinearSVC</td>\n",
              "      <td>0.756329</td>\n",
              "      <td>{'classifier__C': 1}</td>\n",
              "      <td>RandomForest</td>\n",
              "      <td>9</td>\n",
              "    </tr>\n",
              "    <tr>\n",
              "      <th>11</th>\n",
              "      <td>Decision Tree</td>\n",
              "      <td>0.767820</td>\n",
              "      <td>{'classifier__min_samples_leaf': 1}</td>\n",
              "      <td>RandomForest</td>\n",
              "      <td>9</td>\n",
              "    </tr>\n",
              "  </tbody>\n",
              "</table>\n",
              "</div>"
            ],
            "text/plain": [
              "             Classifier  Accuracy  ...   Feature_Selection Num_Features\n",
              "0   Logistic Regression  0.750000  ...  LogisticRegression           17\n",
              "1             LinearSVC  0.746771  ...  LogisticRegression           17\n",
              "2         Decision Tree  0.749224  ...  LogisticRegression           17\n",
              "3   Logistic Regression  0.748967  ...           LinearSVM           19\n",
              "4             LinearSVC  0.745351  ...           LinearSVM           19\n",
              "5         Decision Tree  0.748579  ...           LinearSVM           19\n",
              "6   Logistic Regression  0.765755  ...         SelectKBest           10\n",
              "7             LinearSVC  0.755553  ...         SelectKBest           10\n",
              "8         Decision Tree  0.768078  ...         SelectKBest           10\n",
              "9   Logistic Regression  0.765496  ...        RandomForest            9\n",
              "10            LinearSVC  0.756329  ...        RandomForest            9\n",
              "11        Decision Tree  0.767820  ...        RandomForest            9\n",
              "\n",
              "[12 rows x 5 columns]"
            ]
          },
          "metadata": {
            "tags": []
          },
          "execution_count": 34
        }
      ]
    },
    {
      "cell_type": "code",
      "metadata": {
        "colab": {
          "base_uri": "https://localhost:8080/",
          "height": 197
        },
        "id": "BmAEQ2OvXMn2",
        "outputId": "fc604882-be35-4deb-fc5e-012ae7447d12"
      },
      "source": [
        "results_group = scores_df.groupby(['Feature_Selection']).mean()\n",
        "results_group = results_group.sort_values(by=['Accuracy'], ascending=False)\n",
        "results_group"
      ],
      "execution_count": null,
      "outputs": [
        {
          "output_type": "execute_result",
          "data": {
            "text/html": [
              "<div>\n",
              "<style scoped>\n",
              "    .dataframe tbody tr th:only-of-type {\n",
              "        vertical-align: middle;\n",
              "    }\n",
              "\n",
              "    .dataframe tbody tr th {\n",
              "        vertical-align: top;\n",
              "    }\n",
              "\n",
              "    .dataframe thead th {\n",
              "        text-align: right;\n",
              "    }\n",
              "</style>\n",
              "<table border=\"1\" class=\"dataframe\">\n",
              "  <thead>\n",
              "    <tr style=\"text-align: right;\">\n",
              "      <th></th>\n",
              "      <th>Accuracy</th>\n",
              "    </tr>\n",
              "    <tr>\n",
              "      <th>Feature_Selection</th>\n",
              "      <th></th>\n",
              "    </tr>\n",
              "  </thead>\n",
              "  <tbody>\n",
              "    <tr>\n",
              "      <th>RandomForest</th>\n",
              "      <td>0.763215</td>\n",
              "    </tr>\n",
              "    <tr>\n",
              "      <th>SelectKBest</th>\n",
              "      <td>0.763129</td>\n",
              "    </tr>\n",
              "    <tr>\n",
              "      <th>LogisticRegression</th>\n",
              "      <td>0.748665</td>\n",
              "    </tr>\n",
              "    <tr>\n",
              "      <th>LinearSVM</th>\n",
              "      <td>0.747632</td>\n",
              "    </tr>\n",
              "  </tbody>\n",
              "</table>\n",
              "</div>"
            ],
            "text/plain": [
              "                    Accuracy\n",
              "Feature_Selection           \n",
              "RandomForest        0.763215\n",
              "SelectKBest         0.763129\n",
              "LogisticRegression  0.748665\n",
              "LinearSVM           0.747632"
            ]
          },
          "metadata": {
            "tags": []
          },
          "execution_count": 35
        }
      ]
    },
    {
      "cell_type": "markdown",
      "metadata": {
        "id": "UaOBCYp_Xa8G"
      },
      "source": [
        "### Comment:\n",
        "- With 10 features, SelectKBest is the best performing set based on average score. Therefore, we proceed with this set of features"
      ]
    },
    {
      "cell_type": "markdown",
      "metadata": {
        "id": "mmiCqCklaaxd"
      },
      "source": [
        "# 4. Simple Classification Methods with Hyperparameters Tuning:\n",
        "- Using the previous chosen feature set, we will apply some classification algorithms, with GridSearchCV to tune their hyperparameters.  "
      ]
    },
    {
      "cell_type": "code",
      "metadata": {
        "id": "nopqkIx3fe59"
      },
      "source": [
        "#set features to use \n",
        "features = features_k\n",
        "\n",
        "#define scaler\n",
        "scaler = RobustScaler()\n",
        "\n",
        "#fit data\n",
        "transformed = scaler.fit_transform(features)\n",
        "\n",
        "#create df again\n",
        "features_rs = pd.DataFrame(transformed, index=features.index, columns = features.columns)\n",
        "features_rs = features_rs.reset_index(drop=True)"
      ],
      "execution_count": null,
      "outputs": []
    },
    {
      "cell_type": "code",
      "metadata": {
        "id": "caPeYEDacc30"
      },
      "source": [
        "#Separate the data\n",
        "X_train, X_test, Y_train, Y_test = train_test_split(features_rs, responses, \n",
        "                                                    test_size=0.25, \n",
        "                                                    random_state=42)"
      ],
      "execution_count": null,
      "outputs": []
    },
    {
      "cell_type": "code",
      "metadata": {
        "colab": {
          "base_uri": "https://localhost:8080/"
        },
        "id": "T2yXYXY5bHiC",
        "outputId": "c2a6fd22-a9f7-464e-ad11-ffcff571df3c"
      },
      "source": [
        "# scores = [] #list variable to hold classification scores\n",
        "# #Names of the various classification approaches for easy presentation of the results\n",
        "names = [\"LinearSVC\", \"DecisionTree\", \"RandomForest\", \"AdaBOOST\", \"XGBOOST\"]\n",
        "\n",
        "#Create a dictionary to hold best parameters\n",
        "best_params = dict()\n",
        "\n",
        "#XGBOOST vars\n",
        "best_es = 0\n",
        "best_score_xg=0\n",
        "\n",
        "#list of classifiers\n",
        "classifiers = [\n",
        "    SVC(kernel=\"linear\", probability=True),\n",
        "    DecisionTreeClassifier(),    \n",
        "    RandomForestClassifier(random_state=42),\n",
        "    AdaBoostClassifier(),\n",
        "    XGBClassifier(use_label_encoder=False, eval_metric=\"error\")]\n",
        "\n",
        "#hyperparameters for cv\n",
        "param_grid = [\n",
        "    {'C': [0.001, 0.01, 0.1, 1, 10]},\n",
        "    {'min_samples_leaf': [1, 5], 'max_depth': np.arange(5,10,1)},\n",
        "    {'n_estimators': list(range(10, 1000, 200)),  'max_leaf_nodes' : np.arange(15,20,1) },\n",
        "    {'learning_rate': [0.01, 0.1, 1]},\n",
        "    {'early_stopping_rounds': list(range(2,20))}\n",
        "]\n",
        "\n",
        "#Create kfold object\n",
        "kfold = KFold(n_splits=5, random_state=42, shuffle=True)\n",
        "\n",
        "#match the classifier and hyperparams\n",
        "for index, classifier in enumerate(classifiers):\n",
        "    print(\"Processing CV for hyperparameter tuning:\", names[index])\n",
        "    #if it's not XGBoost, perform GridSearch\n",
        "    if names[index] != \"XGBOOST\":\n",
        "        cv = GridSearchCV(classifier, param_grid[index], cv=kfold, scoring='accuracy')\n",
        "        cv.fit(X_train, Y_train)\n",
        "        # check out best model performance\n",
        "        best_params[names[index]] = cv.best_params_\n",
        "    else:\n",
        "        #tune early stopping round with value in range 1-20\n",
        "        for i in range(1,20,1):\n",
        "            xgb =classifiers[index] \n",
        "            xgb.fit(X_train, Y_train, eval_set=[(X_test,Y_test)], eval_metric=\"error\",verbose=False,early_stopping_rounds=i)\n",
        "            Y_pred=xgb.predict(X_test)\n",
        "            score = (accuracy_score(Y_test, Y_pred))\n",
        "            if score>best_score_xg:\n",
        "                best_score_xg=score\n",
        "                best_es = i\n",
        "        best_params[names[index]] = {\"early_stopping_rounds\": best_es}\n",
        "\n",
        "print()\n",
        "print(\"Best parameters:\")\n",
        "\n",
        "best_params"
      ],
      "execution_count": null,
      "outputs": [
        {
          "output_type": "stream",
          "text": [
            "Processing CV for hyperparameter tuning: LinearSVC\n",
            "Processing CV for hyperparameter tuning: DecisionTree\n",
            "Processing CV for hyperparameter tuning: RandomForest\n",
            "Processing CV for hyperparameter tuning: AdaBOOST\n",
            "Processing CV for hyperparameter tuning: XGBOOST\n",
            "\n",
            "Best parameters:\n"
          ],
          "name": "stdout"
        },
        {
          "output_type": "execute_result",
          "data": {
            "text/plain": [
              "{'AdaBOOST': {'learning_rate': 1},\n",
              " 'DecisionTree': {'max_depth': 9, 'min_samples_leaf': 1},\n",
              " 'LinearSVC': {'C': 0.01},\n",
              " 'RandomForest': {'max_leaf_nodes': 18, 'n_estimators': 10},\n",
              " 'XGBOOST': {'early_stopping_rounds': 10}}"
            ]
          },
          "metadata": {
            "tags": []
          },
          "execution_count": 38
        }
      ]
    },
    {
      "cell_type": "code",
      "metadata": {
        "colab": {
          "base_uri": "https://localhost:8080/",
          "height": 286
        },
        "id": "5E-pPOOGecjW",
        "outputId": "9279abe5-4e7e-426b-9c27-c71f98d2c7da"
      },
      "source": [
        "#Names of the various classification approaches for easy presentation of the results\n",
        "names = [ \"LinearSVC\", \"DecisionTree\", \"RandomForest\", \"AdaBOOST\",\"XGBOOST\"]\n",
        "\n",
        "#Create a dataframe for prediction scores\n",
        "results_df = pd.DataFrame(columns=['Classifier', 'Accuracy', 'Params', 'Feature_Selection'])\n",
        "\n",
        "scores = [] #list variable to hold classification scores (predictive accuracy scores)\n",
        "\n",
        "#Prepare models for VotingClassifier \n",
        "#creeate instances (i.e., objects) of the various classifiers, using the dictionary of \"Best parameters\" established on the previous item\n",
        "\n",
        "linear_svc = SVC(kernel=\"linear\", **best_params[\"LinearSVC\"], probability=True)\n",
        "dtc = DecisionTreeClassifier( **best_params[\"DecisionTree\"])\n",
        "rf = RandomForestClassifier( **best_params[\"RandomForest\"], random_state=42)\n",
        "ada = AdaBoostClassifier(**best_params[\"AdaBOOST\"])\n",
        "xgb = XGBClassifier(use_label_encoder=False, eval_metric=\"error\")\n",
        "\n",
        "\n",
        "classifiers = [\n",
        "    linear_svc,\n",
        "    dtc,\n",
        "    rf,\n",
        "    ada,\n",
        "    xgb]\n",
        "\n",
        "#run classification models using Pipeline\n",
        "for index, classifier in enumerate(classifiers):\n",
        "    print(\"Processing classifier:\", names[index])\n",
        "    #if it's not XGBoost, add model to pipeline\n",
        "    if names[index] != \"XGBOOST\":\n",
        "        pipeline = Pipeline(steps=[\n",
        "                      ('classifier', classifier)])\n",
        "        pipeline.fit(X_train, Y_train)\n",
        "        results_df = results_df.append({'Classifier': names[index], 'Accuracy': pipeline.score(X_test, Y_test), 'Params': str(best_params[names[index]]), 'Feature_Selection': \"RandomForest\"}, ignore_index=True)\n",
        "    #For XGBoost, set earlystoppingrounds\n",
        "    else:\n",
        "        xgb =classifiers[index] \n",
        "        xgb.fit(X_train, Y_train, eval_set=[(X_test,Y_test)], eval_metric=\"error\",verbose=False,**best_params[\"XGBOOST\"])\n",
        "        Y_pred=xgb.predict(X_test)\n",
        "        score = (accuracy_score(Y_test,Y_pred))\n",
        "        results_df = results_df.append({'Classifier': names[index], 'Accuracy': score, 'Params': str(best_params[names[index]]), 'Feature_Selection': \"RandomForest\"}, ignore_index=True)\n",
        "\n",
        "results_df = results_df.sort_values(by=['Accuracy'], ascending=False)\n",
        "results_df"
      ],
      "execution_count": null,
      "outputs": [
        {
          "output_type": "stream",
          "text": [
            "Processing classifier: LinearSVC\n",
            "Processing classifier: DecisionTree\n",
            "Processing classifier: RandomForest\n",
            "Processing classifier: AdaBOOST\n",
            "Processing classifier: XGBOOST\n"
          ],
          "name": "stdout"
        },
        {
          "output_type": "execute_result",
          "data": {
            "text/html": [
              "<div>\n",
              "<style scoped>\n",
              "    .dataframe tbody tr th:only-of-type {\n",
              "        vertical-align: middle;\n",
              "    }\n",
              "\n",
              "    .dataframe tbody tr th {\n",
              "        vertical-align: top;\n",
              "    }\n",
              "\n",
              "    .dataframe thead th {\n",
              "        text-align: right;\n",
              "    }\n",
              "</style>\n",
              "<table border=\"1\" class=\"dataframe\">\n",
              "  <thead>\n",
              "    <tr style=\"text-align: right;\">\n",
              "      <th></th>\n",
              "      <th>Classifier</th>\n",
              "      <th>Accuracy</th>\n",
              "      <th>Params</th>\n",
              "      <th>Feature_Selection</th>\n",
              "    </tr>\n",
              "  </thead>\n",
              "  <tbody>\n",
              "    <tr>\n",
              "      <th>1</th>\n",
              "      <td>DecisionTree</td>\n",
              "      <td>0.789698</td>\n",
              "      <td>{'max_depth': 9, 'min_samples_leaf': 1}</td>\n",
              "      <td>RandomForest</td>\n",
              "    </tr>\n",
              "    <tr>\n",
              "      <th>3</th>\n",
              "      <td>AdaBOOST</td>\n",
              "      <td>0.766847</td>\n",
              "      <td>{'learning_rate': 1}</td>\n",
              "      <td>RandomForest</td>\n",
              "    </tr>\n",
              "    <tr>\n",
              "      <th>2</th>\n",
              "      <td>RandomForest</td>\n",
              "      <td>0.761038</td>\n",
              "      <td>{'max_leaf_nodes': 18, 'n_estimators': 10}</td>\n",
              "      <td>RandomForest</td>\n",
              "    </tr>\n",
              "    <tr>\n",
              "      <th>4</th>\n",
              "      <td>XGBOOST</td>\n",
              "      <td>0.759489</td>\n",
              "      <td>{'early_stopping_rounds': 10}</td>\n",
              "      <td>RandomForest</td>\n",
              "    </tr>\n",
              "    <tr>\n",
              "      <th>0</th>\n",
              "      <td>LinearSVC</td>\n",
              "      <td>0.751743</td>\n",
              "      <td>{'C': 0.01}</td>\n",
              "      <td>RandomForest</td>\n",
              "    </tr>\n",
              "  </tbody>\n",
              "</table>\n",
              "</div>"
            ],
            "text/plain": [
              "     Classifier  ...  Feature_Selection\n",
              "1  DecisionTree  ...       RandomForest\n",
              "3      AdaBOOST  ...       RandomForest\n",
              "2  RandomForest  ...       RandomForest\n",
              "4       XGBOOST  ...       RandomForest\n",
              "0     LinearSVC  ...       RandomForest\n",
              "\n",
              "[5 rows x 4 columns]"
            ]
          },
          "metadata": {
            "tags": []
          },
          "execution_count": 39
        }
      ]
    },
    {
      "cell_type": "markdown",
      "metadata": {
        "id": "7AQznUjpeICg"
      },
      "source": [
        "# 5. Ensemble Methods:\n",
        "- Applying 'wisdom of the crowd' is believed to yield more accurate results since they can improve each other's weaknesses. Therefore, we will experimented with SoftVoting and HardVoting of 2 combinations:\n",
        "  - All tuned models above\n",
        "  - Best performing 3 models\n"
      ]
    },
    {
      "cell_type": "code",
      "metadata": {
        "colab": {
          "base_uri": "https://localhost:8080/"
        },
        "id": "CCNoIHHej5am",
        "outputId": "e3125f49-1020-47e8-ba73-619508d2ffd7"
      },
      "source": [
        "from sklearn.model_selection import cross_val_score\n",
        "#Names of the various classification approaches for easy presentation of the results\n",
        "names = [\"HardVoting\", \"SoftVoting\"]\n",
        "\n",
        "#vars to record best results\n",
        "best_voting_accuracy = {\"HardVoting\": 0, \"SoftVoting\": 0}\n",
        "best_voters = {\"HardVoting\": [], \"SoftVoting\": []}\n",
        "\n",
        "#Prepare models for VotingClassifier \n",
        "#creeate instances (i.e., objects) of the various classifiers, using the dictionary of \"Best parameters\" established on the previous item\n",
        "linear_svc = SVC(kernel=\"linear\", **best_params[\"LinearSVC\"], probability=True)\n",
        "dtc = DecisionTreeClassifier(**best_params[\"DecisionTree\"])\n",
        "rf = RandomForestClassifier( **best_params[\"RandomForest\"], random_state=42)\n",
        "ada = AdaBoostClassifier(**best_params[\"AdaBOOST\"])\n",
        "xgb = XGBClassifier(use_label_encoder=False, eval_metric=\"error\")\n",
        "        \n",
        "#hyperparameters for cv\n",
        "voters = [\n",
        "        [('linear_svc', linear_svc), ('dtc', dtc), ('rf', rf), ('ada', ada), ('xgb', xgb)],\n",
        "        [('dtc', dtc),('ada', ada),('xgb', xgb) ]                  \n",
        "                   ]\n",
        "\n",
        "#Create kfold object\n",
        "kfold = KFold(n_splits=5, random_state=42, shuffle=True)\n",
        "\n",
        "#Loop through voter combinations to establish the best voting configuration\n",
        "for voter in voters:\n",
        "    #Tuning the hard voter\n",
        "    hv_clf = VotingClassifier(estimators=voter, voting='hard')\n",
        "    scores = cross_val_score(hv_clf, X_train, Y_train, cv=kfold)\n",
        "    score = np.mean(scores)\n",
        "    if score > best_voting_accuracy[\"HardVoting\"]:\n",
        "        best_voting_accuracy[\"HardVoting\"] = score\n",
        "        best_voters[\"HardVoting\"] = voter\n",
        "        \n",
        "    #Tuning the soft voter\n",
        "    sv_clf = VotingClassifier(estimators=voter, voting='soft')\n",
        "    scores = cross_val_score(hv_clf, X_train, Y_train, cv=kfold)\n",
        "    score = np.mean(scores)\n",
        "    if score > best_voting_accuracy[\"SoftVoting\"]:\n",
        "        best_voting_accuracy[\"SoftVoting\"] = score\n",
        "        best_voters[\"SoftVoting\"] = voter\n",
        "\n",
        "print(\"Hard Voting:\")\n",
        "print(\"Best Voters:\", best_voters[\"HardVoting\"])\n",
        "print(\"Best Accuracy:\", best_voting_accuracy[\"HardVoting\"])\n",
        "\n",
        "print(\"\\nSoft Voting:\")\n",
        "print(\"Best Voters:\", best_voters[\"SoftVoting\"])\n",
        "print(\"Best Accuracy:\", best_voting_accuracy[\"SoftVoting\"])"
      ],
      "execution_count": null,
      "outputs": [
        {
          "output_type": "stream",
          "text": [
            "Hard Voting:\n",
            "Best Voters: [('dtc', DecisionTreeClassifier(ccp_alpha=0.0, class_weight=None, criterion='gini',\n",
            "                       max_depth=9, max_features=None, max_leaf_nodes=None,\n",
            "                       min_impurity_decrease=0.0, min_impurity_split=None,\n",
            "                       min_samples_leaf=1, min_samples_split=2,\n",
            "                       min_weight_fraction_leaf=0.0, presort='deprecated',\n",
            "                       random_state=None, splitter='best')), ('ada', AdaBoostClassifier(algorithm='SAMME.R', base_estimator=None, learning_rate=1,\n",
            "                   n_estimators=50, random_state=None)), ('xgb', XGBClassifier(base_score=0.5, booster='gbtree', colsample_bylevel=1,\n",
            "              colsample_bynode=1, colsample_bytree=1, eval_metric='error',\n",
            "              gamma=0, learning_rate=0.1, max_delta_step=0, max_depth=3,\n",
            "              min_child_weight=1, missing=None, n_estimators=100, n_jobs=1,\n",
            "              nthread=None, objective='binary:logistic', random_state=0,\n",
            "              reg_alpha=0, reg_lambda=1, scale_pos_weight=1, seed=None,\n",
            "              silent=None, subsample=1, use_label_encoder=False, verbosity=1))]\n",
            "Best Accuracy: 0.7791852040909948\n",
            "\n",
            "Soft Voting:\n",
            "Best Voters: [('dtc', DecisionTreeClassifier(ccp_alpha=0.0, class_weight=None, criterion='gini',\n",
            "                       max_depth=9, max_features=None, max_leaf_nodes=None,\n",
            "                       min_impurity_decrease=0.0, min_impurity_split=None,\n",
            "                       min_samples_leaf=1, min_samples_split=2,\n",
            "                       min_weight_fraction_leaf=0.0, presort='deprecated',\n",
            "                       random_state=None, splitter='best')), ('ada', AdaBoostClassifier(algorithm='SAMME.R', base_estimator=None, learning_rate=1,\n",
            "                   n_estimators=50, random_state=None)), ('xgb', XGBClassifier(base_score=0.5, booster='gbtree', colsample_bylevel=1,\n",
            "              colsample_bynode=1, colsample_bytree=1, eval_metric='error',\n",
            "              gamma=0, learning_rate=0.1, max_delta_step=0, max_depth=3,\n",
            "              min_child_weight=1, missing=None, n_estimators=100, n_jobs=1,\n",
            "              nthread=None, objective='binary:logistic', random_state=0,\n",
            "              reg_alpha=0, reg_lambda=1, scale_pos_weight=1, seed=None,\n",
            "              silent=None, subsample=1, use_label_encoder=False, verbosity=1))]\n",
            "Best Accuracy: 0.77905608853257\n"
          ],
          "name": "stdout"
        }
      ]
    },
    {
      "cell_type": "markdown",
      "metadata": {
        "id": "UTHRuCBnlL0c"
      },
      "source": [
        "### Comments:\n",
        "- Both Soft Voting and Hard Voting improved the accuracy slightly with combination of 3 best models. "
      ]
    },
    {
      "cell_type": "code",
      "metadata": {
        "colab": {
          "base_uri": "https://localhost:8080/"
        },
        "id": "jodPcU0Bk5pd",
        "outputId": "79cf9560-a95a-4f63-cc0c-8413c420a40e"
      },
      "source": [
        "#Appending a value for Ensemble params to be displayed in our results_df\n",
        "best_params_voting = {\"SoftVoting\": \"Voters: DecisionTree, AdaBoost, XGBOOST\", \"HardVoting\": \"Voters: DecisionTree, AdaBoost, XGBOOST\"}\n",
        "best_params = {**best_params, **best_params_voting}\n",
        "\n",
        "#specify the VotingClassifier() - soft voting\n",
        "sv_clf = VotingClassifier(estimators=[('dtc', dtc),('ada', ada),('xgb', xgb)], voting='soft')\n",
        "\n",
        "#specify the VotingClassifier() - hard voting\n",
        "hv_clf = VotingClassifier(estimators=[('dtc', dtc),('ada', ada),('xgb', xgb)], voting='hard')\n",
        "\n",
        "ensemble = [sv_clf, hv_clf]\n",
        "\n",
        "for index, classifier in enumerate(ensemble):\n",
        "    print(\"Processing classifier:\", names[index])\n",
        "    #if it's not XGBoost, add model to pipeline\n",
        "   \n",
        "    pipeline = Pipeline(steps=[\n",
        "                      ('classifier', classifier)])\n",
        "    pipeline.fit(X_train, Y_train)\n",
        "    results_df = results_df.append({'Classifier': names[index], 'Accuracy': pipeline.score(X_test, Y_test), 'Params': str(best_params[names[index]]), 'Feature_Selection': \"RandomForest\"}, ignore_index=True)"
      ],
      "execution_count": null,
      "outputs": [
        {
          "output_type": "stream",
          "text": [
            "Processing classifier: HardVoting\n",
            "Processing classifier: SoftVoting\n"
          ],
          "name": "stdout"
        }
      ]
    },
    {
      "cell_type": "code",
      "metadata": {
        "colab": {
          "base_uri": "https://localhost:8080/",
          "height": 257
        },
        "id": "BaLU7q0Zmk6q",
        "outputId": "66513a87-5197-4227-fc62-2b0d3f049fd4"
      },
      "source": [
        "results_df.sort_values(by='Accuracy', ascending=False)"
      ],
      "execution_count": null,
      "outputs": [
        {
          "output_type": "execute_result",
          "data": {
            "text/html": [
              "<div>\n",
              "<style scoped>\n",
              "    .dataframe tbody tr th:only-of-type {\n",
              "        vertical-align: middle;\n",
              "    }\n",
              "\n",
              "    .dataframe tbody tr th {\n",
              "        vertical-align: top;\n",
              "    }\n",
              "\n",
              "    .dataframe thead th {\n",
              "        text-align: right;\n",
              "    }\n",
              "</style>\n",
              "<table border=\"1\" class=\"dataframe\">\n",
              "  <thead>\n",
              "    <tr style=\"text-align: right;\">\n",
              "      <th></th>\n",
              "      <th>Classifier</th>\n",
              "      <th>Accuracy</th>\n",
              "      <th>Params</th>\n",
              "      <th>Feature_Selection</th>\n",
              "    </tr>\n",
              "  </thead>\n",
              "  <tbody>\n",
              "    <tr>\n",
              "      <th>5</th>\n",
              "      <td>HardVoting</td>\n",
              "      <td>0.800155</td>\n",
              "      <td>Voters: DecisionTree, AdaBoost, XGBOOST</td>\n",
              "      <td>RandomForest</td>\n",
              "    </tr>\n",
              "    <tr>\n",
              "      <th>0</th>\n",
              "      <td>DecisionTree</td>\n",
              "      <td>0.789698</td>\n",
              "      <td>{'max_depth': 9, 'min_samples_leaf': 1}</td>\n",
              "      <td>RandomForest</td>\n",
              "    </tr>\n",
              "    <tr>\n",
              "      <th>6</th>\n",
              "      <td>SoftVoting</td>\n",
              "      <td>0.775368</td>\n",
              "      <td>Voters: DecisionTree, AdaBoost, XGBOOST</td>\n",
              "      <td>RandomForest</td>\n",
              "    </tr>\n",
              "    <tr>\n",
              "      <th>1</th>\n",
              "      <td>AdaBOOST</td>\n",
              "      <td>0.766847</td>\n",
              "      <td>{'learning_rate': 1}</td>\n",
              "      <td>RandomForest</td>\n",
              "    </tr>\n",
              "    <tr>\n",
              "      <th>2</th>\n",
              "      <td>RandomForest</td>\n",
              "      <td>0.761038</td>\n",
              "      <td>{'max_leaf_nodes': 18, 'n_estimators': 10}</td>\n",
              "      <td>RandomForest</td>\n",
              "    </tr>\n",
              "    <tr>\n",
              "      <th>3</th>\n",
              "      <td>XGBOOST</td>\n",
              "      <td>0.759489</td>\n",
              "      <td>{'early_stopping_rounds': 10}</td>\n",
              "      <td>RandomForest</td>\n",
              "    </tr>\n",
              "    <tr>\n",
              "      <th>4</th>\n",
              "      <td>LinearSVC</td>\n",
              "      <td>0.751743</td>\n",
              "      <td>{'C': 0.01}</td>\n",
              "      <td>RandomForest</td>\n",
              "    </tr>\n",
              "  </tbody>\n",
              "</table>\n",
              "</div>"
            ],
            "text/plain": [
              "     Classifier  ...  Feature_Selection\n",
              "5    HardVoting  ...       RandomForest\n",
              "0  DecisionTree  ...       RandomForest\n",
              "6    SoftVoting  ...       RandomForest\n",
              "1      AdaBOOST  ...       RandomForest\n",
              "2  RandomForest  ...       RandomForest\n",
              "3       XGBOOST  ...       RandomForest\n",
              "4     LinearSVC  ...       RandomForest\n",
              "\n",
              "[7 rows x 4 columns]"
            ]
          },
          "metadata": {
            "tags": []
          },
          "execution_count": 42
        }
      ]
    },
    {
      "cell_type": "markdown",
      "metadata": {
        "id": "2CXqpSDFnPii"
      },
      "source": [
        "### Comments:\n",
        "- The result shows that HardVoting with the best 3 individual models provides the highest accuracy among all the models, with the accuracy of 80%."
      ]
    },
    {
      "cell_type": "markdown",
      "metadata": {
        "id": "JexzjV--riC9"
      },
      "source": [
        "# 6. ANN"
      ]
    },
    {
      "cell_type": "markdown",
      "metadata": {
        "id": "HkWiODCQoMlM"
      },
      "source": [
        "- Using more complex models has proven to give the better result in prediction. Therefore, an ANN is included to experiment to see if it can improve the performance. \n",
        "- We will first tune a Multilayer Perception Neural Network to get the best performing hyperparameters, and proceed to train data with them."
      ]
    },
    {
      "cell_type": "code",
      "metadata": {
        "id": "8x0D1F7cn0eS"
      },
      "source": [
        "from sklearn.neural_network import MLPClassifier\n",
        "import warnings\n",
        "#Supress warnings\n",
        "warnings.filterwarnings(\"ignore\")\n",
        "\n",
        "#define hyperparameters space for tuning\n",
        "parameters={\n",
        "'learning_rate_init': [0.1, 0.01, 0.001],\n",
        "'hidden_layer_sizes': [(250,125), (100,50), (30,15)],\n",
        "'alpha': 10.0 ** -np.arange(1, 3),\n",
        "'activation': [\"relu\", \"Tanh\"],\n",
        "'max_iter': [500, 1000]\n",
        "}\n",
        "\n",
        "#define a GridSearch with ANN\n",
        "ann_clf_cv = GridSearchCV(estimator=MLPClassifier(),\n",
        "                          param_grid=parameters, cv=5, scoring='accuracy')\n",
        "\n",
        "#fit data\n",
        "ann_clf_cv.fit(X_train, Y_train)\n",
        "\n",
        "#get best result's information\n",
        "grid_lr = ann_clf_cv.best_estimator_.learning_rate_init\n",
        "grid_lsizes = ann_clf_cv.best_estimator_.hidden_layer_sizes\n",
        "grid_alpha = ann_clf_cv.best_estimator_.alpha\n",
        "grid_activation = ann_clf_cv.best_estimator_.activation\n",
        "grid_max_iter = ann_clf_cv.best_estimator_.max_iter"
      ],
      "execution_count": null,
      "outputs": []
    },
    {
      "cell_type": "code",
      "metadata": {
        "id": "htC6fZH7sPF_"
      },
      "source": [
        "#train ANN model with the tuned hyperparams\n",
        "ann_clf = MLPClassifier(learning_rate_init=grid_lr, hidden_layer_sizes=grid_lsizes,\n",
        "                       alpha=grid_alpha, activation=grid_activation,\n",
        "                       max_iter=grid_max_iter)\n",
        "\n",
        "#fit model\n",
        "ann_clf.fit(X_train, Y_train)\n",
        "ann_pred = ann_clf.predict(X_test)\n",
        "\n",
        "# R-squared testing\n",
        "ann_accuracy = ann_clf.score(X_test, Y_test)\n",
        "\n",
        "# Append model performance to dataframe\n",
        "results_df = results_df.append({'Classifier': 'MLPClassifier', 'Accuracy': ann_accuracy, \n",
        "                                'Params': str(ann_clf_cv.best_params_), 'Feature_Selection': \"RandomForest\"}, ignore_index=True)"
      ],
      "execution_count": null,
      "outputs": []
    },
    {
      "cell_type": "code",
      "metadata": {
        "colab": {
          "base_uri": "https://localhost:8080/",
          "height": 287
        },
        "id": "XkHR8uxQhz87",
        "outputId": "499f16f8-643d-4322-8481-9f8ca02ede50"
      },
      "source": [
        "results_df.sort_values(by='Accuracy', ascending=False)"
      ],
      "execution_count": null,
      "outputs": [
        {
          "output_type": "execute_result",
          "data": {
            "text/html": [
              "<div>\n",
              "<style scoped>\n",
              "    .dataframe tbody tr th:only-of-type {\n",
              "        vertical-align: middle;\n",
              "    }\n",
              "\n",
              "    .dataframe tbody tr th {\n",
              "        vertical-align: top;\n",
              "    }\n",
              "\n",
              "    .dataframe thead th {\n",
              "        text-align: right;\n",
              "    }\n",
              "</style>\n",
              "<table border=\"1\" class=\"dataframe\">\n",
              "  <thead>\n",
              "    <tr style=\"text-align: right;\">\n",
              "      <th></th>\n",
              "      <th>Classifier</th>\n",
              "      <th>Accuracy</th>\n",
              "      <th>Params</th>\n",
              "      <th>Feature_Selection</th>\n",
              "    </tr>\n",
              "  </thead>\n",
              "  <tbody>\n",
              "    <tr>\n",
              "      <th>5</th>\n",
              "      <td>HardVoting</td>\n",
              "      <td>0.800155</td>\n",
              "      <td>Voters: DecisionTree, AdaBoost, XGBOOST</td>\n",
              "      <td>RandomForest</td>\n",
              "    </tr>\n",
              "    <tr>\n",
              "      <th>0</th>\n",
              "      <td>DecisionTree</td>\n",
              "      <td>0.789698</td>\n",
              "      <td>{'max_depth': 9, 'min_samples_leaf': 1}</td>\n",
              "      <td>RandomForest</td>\n",
              "    </tr>\n",
              "    <tr>\n",
              "      <th>7</th>\n",
              "      <td>MLPClassifier</td>\n",
              "      <td>0.778079</td>\n",
              "      <td>{'activation': 'relu', 'alpha': 0.01, 'hidden_...</td>\n",
              "      <td>RandomForest</td>\n",
              "    </tr>\n",
              "    <tr>\n",
              "      <th>6</th>\n",
              "      <td>SoftVoting</td>\n",
              "      <td>0.775368</td>\n",
              "      <td>Voters: DecisionTree, AdaBoost, XGBOOST</td>\n",
              "      <td>RandomForest</td>\n",
              "    </tr>\n",
              "    <tr>\n",
              "      <th>1</th>\n",
              "      <td>AdaBOOST</td>\n",
              "      <td>0.766847</td>\n",
              "      <td>{'learning_rate': 1}</td>\n",
              "      <td>RandomForest</td>\n",
              "    </tr>\n",
              "    <tr>\n",
              "      <th>2</th>\n",
              "      <td>RandomForest</td>\n",
              "      <td>0.761038</td>\n",
              "      <td>{'max_leaf_nodes': 18, 'n_estimators': 10}</td>\n",
              "      <td>RandomForest</td>\n",
              "    </tr>\n",
              "    <tr>\n",
              "      <th>3</th>\n",
              "      <td>XGBOOST</td>\n",
              "      <td>0.759489</td>\n",
              "      <td>{'early_stopping_rounds': 10}</td>\n",
              "      <td>RandomForest</td>\n",
              "    </tr>\n",
              "    <tr>\n",
              "      <th>4</th>\n",
              "      <td>LinearSVC</td>\n",
              "      <td>0.751743</td>\n",
              "      <td>{'C': 0.01}</td>\n",
              "      <td>RandomForest</td>\n",
              "    </tr>\n",
              "  </tbody>\n",
              "</table>\n",
              "</div>"
            ],
            "text/plain": [
              "      Classifier  ...  Feature_Selection\n",
              "5     HardVoting  ...       RandomForest\n",
              "0   DecisionTree  ...       RandomForest\n",
              "7  MLPClassifier  ...       RandomForest\n",
              "6     SoftVoting  ...       RandomForest\n",
              "1       AdaBOOST  ...       RandomForest\n",
              "2   RandomForest  ...       RandomForest\n",
              "3        XGBOOST  ...       RandomForest\n",
              "4      LinearSVC  ...       RandomForest\n",
              "\n",
              "[8 rows x 4 columns]"
            ]
          },
          "metadata": {
            "tags": []
          },
          "execution_count": 45
        }
      ]
    },
    {
      "cell_type": "markdown",
      "metadata": {
        "id": "BDSp9P1l7Fgn"
      },
      "source": [
        "### Comments:\n",
        "- From the table above, the model that has outperformed other models is Ensemble Method: Hard Voting with combination of 3 models. \n",
        "- Therefore, this model is chosen to predict the result in the final step. "
      ]
    },
    {
      "cell_type": "markdown",
      "metadata": {
        "id": "BZeh1NiUtQaZ"
      },
      "source": [
        "# 7. Model Evaluation\n",
        "Using classification report and confusion matrix, we will access the best performing model."
      ]
    },
    {
      "cell_type": "markdown",
      "metadata": {
        "id": "xEy0kH7vtYvZ"
      },
      "source": [
        "## 7.1. Running the best selected model in our testing sets:\n"
      ]
    },
    {
      "cell_type": "code",
      "metadata": {
        "id": "yiJ3JWg806mh"
      },
      "source": [
        "predictions = hv_clf.predict(X_test)"
      ],
      "execution_count": null,
      "outputs": []
    },
    {
      "cell_type": "markdown",
      "metadata": {
        "id": "qyjQMmMrubUO"
      },
      "source": [
        "## 7.2 Cofusion Matrix"
      ]
    },
    {
      "cell_type": "code",
      "metadata": {
        "colab": {
          "base_uri": "https://localhost:8080/",
          "height": 306
        },
        "id": "TYNHze6zuaHc",
        "outputId": "0707eb0b-7950-4320-cd17-19fdf49377c8"
      },
      "source": [
        "#import libraries\n",
        "from sklearn.metrics import confusion_matrix\n",
        "\n",
        "#define CM object\n",
        "confusion_matrix = confusion_matrix(Y_test, predictions)\n",
        "df_cm = pd.DataFrame(confusion_matrix, columns=np.unique(Y_test), index = np.unique(Y_test))\n",
        "df_cm.index.name = 'Actual'\n",
        "df_cm.columns.name = 'Predicted'\n",
        "\n",
        "#plot the CM result\n",
        "plt.figure(figsize = (4,4))\n",
        "sns.set(font_scale=1.2)#for label size\n",
        "sns.heatmap(df_cm, annot=True,annot_kws={\"size\": 12}, cbar=False,\n",
        "          vmax=500, square=True, fmt=\"d\", cmap=\"vlag\")# font size"
      ],
      "execution_count": null,
      "outputs": [
        {
          "output_type": "execute_result",
          "data": {
            "text/plain": [
              "<matplotlib.axes._subplots.AxesSubplot at 0x7fdeb34ce490>"
            ]
          },
          "metadata": {
            "tags": []
          },
          "execution_count": 47
        },
        {
          "output_type": "display_data",
          "data": {
            "image/png": "[encoded data removed]",
            "text/plain": [
              "<Figure size 288x288 with 1 Axes>"
            ]
          },
          "metadata": {
            "tags": []
          }
        }
      ]
    },
    {
      "cell_type": "markdown",
      "metadata": {
        "id": "WJ9ogaopEpOA"
      },
      "source": [
        "### Comments:\n",
        "- From the confusion matrix, it is evident that the model can predict positive (customers who actually stopped) more accurately than negative (customers who still use the service), with the True Positive and True Nagtive proportion being bigger than that of False Positive and False Negative (1058/220 > 944/360)\n",
        "- Our model performs very well in predicting both churn and active customers. "
      ]
    },
    {
      "cell_type": "markdown",
      "metadata": {
        "id": "boRbk4dmujwA"
      },
      "source": [
        "## 7.3 Classification Report"
      ]
    },
    {
      "cell_type": "code",
      "metadata": {
        "colab": {
          "base_uri": "https://localhost:8080/"
        },
        "id": "rThfl6Gfun42",
        "outputId": "1f0c46ff-962a-4a6b-9637-c2b32181985e"
      },
      "source": [
        "from sklearn.metrics import classification_report\n",
        "#get classification report\n",
        "print(classification_report(Y_test, predictions))"
      ],
      "execution_count": null,
      "outputs": [
        {
          "output_type": "stream",
          "text": [
            "              precision    recall  f1-score   support\n",
            "\n",
            "           0       0.81      0.72      0.76      1304\n",
            "           1       0.75      0.83      0.78      1278\n",
            "\n",
            "    accuracy                           0.78      2582\n",
            "   macro avg       0.78      0.78      0.77      2582\n",
            "weighted avg       0.78      0.78      0.77      2582\n",
            "\n"
          ],
          "name": "stdout"
        }
      ]
    }
  ]
}
